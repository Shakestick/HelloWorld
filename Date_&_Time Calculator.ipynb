{
  "nbformat": 4,
  "nbformat_minor": 0,
  "metadata": {
    "colab": {
      "name": "Date & Time.ipynb",
      "provenance": [],
      "authorship_tag": "ABX9TyP4R1VyxPmGOdO/WOJcQ6gJ",
      "include_colab_link": true
    },
    "kernelspec": {
      "name": "python3",
      "display_name": "Python 3"
    },
    "language_info": {
      "name": "python"
    }
  },
  "cells": [
    {
      "cell_type": "markdown",
      "metadata": {
        "id": "view-in-github",
        "colab_type": "text"
      },
      "source": [
        "<a href=\"https://colab.research.google.com/github/Shakestick/HelloWorld/blob/main/Date_%26_Time%20Calculator.ipynb\" target=\"_parent\"><img src=\"https://colab.research.google.com/assets/colab-badge.svg\" alt=\"Open In Colab\"/></a>"
      ]
    },
    {
      "cell_type": "code",
      "metadata": {
        "colab": {
          "base_uri": "https://localhost:8080/"
        },
        "id": "3nE2Vmb70dsF",
        "outputId": "968f020d-eabb-4d36-b564-6162fc9320fd"
      },
      "source": [
        "import datetime\n",
        "\n",
        "#PRINT YEAR MONTH DATE & 24 HOUR + SECONDS\n",
        "\n",
        "now = datetime.datetime.now()\n",
        "print(\"Current date and time is:\")\n",
        "print(now.strftime(\"%y-%m-%d %H:%M:%S\"))"
      ],
      "execution_count": 9,
      "outputs": [
        {
          "output_type": "stream",
          "name": "stdout",
          "text": [
            "Current date and time is:\n",
            "21-10-28 16:59:20\n"
          ]
        }
      ]
    },
    {
      "cell_type": "code",
      "metadata": {
        "colab": {
          "base_uri": "https://localhost:8080/"
        },
        "id": "26iVwluN13i3",
        "outputId": "65601b26-82be-4e42-9764-92f04ae85d41"
      },
      "source": [
        "now = datetime.datetime.now()\n",
        "#PRINT DAY MONTH YEAR  & 24 HOUR + SECONDS\n",
        "print(\"The time and date now is:\")\n",
        "print(now.strftime(\"%d-%m-%y %H:%M:%S\"))"
      ],
      "execution_count": 11,
      "outputs": [
        {
          "output_type": "stream",
          "name": "stdout",
          "text": [
            "Current date and time is:\n",
            "28-10-21 17:00:33\n"
          ]
        }
      ]
    },
    {
      "cell_type": "code",
      "metadata": {
        "id": "yrNRo_Qj2JYV"
      },
      "source": [
        "# WRITE A MEETING COST CALCULATOR INCLUDING\n",
        "# EVERYONE'S WAGE, CURRENT TIME & COST PER SECOND METER"
      ],
      "execution_count": null,
      "outputs": []
    }
  ]
}