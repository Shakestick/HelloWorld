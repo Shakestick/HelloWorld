{
  "nbformat": 4,
  "nbformat_minor": 0,
  "metadata": {
    "colab": {
      "name": "Happy Halloween.ipynb",
      "provenance": [],
      "authorship_tag": "ABX9TyOGY6ht7lusqsxqxdh0xHY0",
      "include_colab_link": true
    },
    "kernelspec": {
      "name": "python3",
      "display_name": "Python 3"
    },
    "language_info": {
      "name": "python"
    }
  },
  "cells": [
    {
      "cell_type": "markdown",
      "metadata": {
        "id": "view-in-github",
        "colab_type": "text"
      },
      "source": [
        "<a href=\"https://colab.research.google.com/github/Shakestick/HelloWorld/blob/main/Happy_Halloween.ipynb\" target=\"_parent\"><img src=\"https://colab.research.google.com/assets/colab-badge.svg\" alt=\"Open In Colab\"/></a>"
      ]
    },
    {
      "cell_type": "code",
      "metadata": {
        "colab": {
          "base_uri": "https://localhost:8080/"
        },
        "id": "j6H_5Bcd-vR_",
        "outputId": "cacd3ef8-ab88-411b-e061-3e7111ecf170"
      },
      "source": [
        "pip install pyfiglet"
      ],
      "execution_count": null,
      "outputs": [
        {
          "output_type": "stream",
          "name": "stdout",
          "text": [
            "Collecting pyfiglet\n",
            "  Downloading pyfiglet-0.8.post1-py2.py3-none-any.whl (865 kB)\n",
            "\u001b[?25l\r\u001b[K     |▍                               | 10 kB 6.0 MB/s eta 0:00:01\r\u001b[K     |▊                               | 20 kB 6.5 MB/s eta 0:00:01\r\u001b[K     |█▏                              | 30 kB 6.4 MB/s eta 0:00:01\r\u001b[K     |█▌                              | 40 kB 6.2 MB/s eta 0:00:01\r\u001b[K     |██                              | 51 kB 5.3 MB/s eta 0:00:01\r\u001b[K     |██▎                             | 61 kB 5.8 MB/s eta 0:00:01\r\u001b[K     |██▋                             | 71 kB 5.4 MB/s eta 0:00:01\r\u001b[K     |███                             | 81 kB 6.0 MB/s eta 0:00:01\r\u001b[K     |███▍                            | 92 kB 5.4 MB/s eta 0:00:01\r\u001b[K     |███▉                            | 102 kB 5.8 MB/s eta 0:00:01\r\u001b[K     |████▏                           | 112 kB 5.8 MB/s eta 0:00:01\r\u001b[K     |████▌                           | 122 kB 5.8 MB/s eta 0:00:01\r\u001b[K     |█████                           | 133 kB 5.8 MB/s eta 0:00:01\r\u001b[K     |█████▎                          | 143 kB 5.8 MB/s eta 0:00:01\r\u001b[K     |█████▊                          | 153 kB 5.8 MB/s eta 0:00:01\r\u001b[K     |██████                          | 163 kB 5.8 MB/s eta 0:00:01\r\u001b[K     |██████▍                         | 174 kB 5.8 MB/s eta 0:00:01\r\u001b[K     |██████▉                         | 184 kB 5.8 MB/s eta 0:00:01\r\u001b[K     |███████▏                        | 194 kB 5.8 MB/s eta 0:00:01\r\u001b[K     |███████▋                        | 204 kB 5.8 MB/s eta 0:00:01\r\u001b[K     |████████                        | 215 kB 5.8 MB/s eta 0:00:01\r\u001b[K     |████████▎                       | 225 kB 5.8 MB/s eta 0:00:01\r\u001b[K     |████████▊                       | 235 kB 5.8 MB/s eta 0:00:01\r\u001b[K     |█████████                       | 245 kB 5.8 MB/s eta 0:00:01\r\u001b[K     |█████████▌                      | 256 kB 5.8 MB/s eta 0:00:01\r\u001b[K     |█████████▉                      | 266 kB 5.8 MB/s eta 0:00:01\r\u001b[K     |██████████▏                     | 276 kB 5.8 MB/s eta 0:00:01\r\u001b[K     |██████████▋                     | 286 kB 5.8 MB/s eta 0:00:01\r\u001b[K     |███████████                     | 296 kB 5.8 MB/s eta 0:00:01\r\u001b[K     |███████████▍                    | 307 kB 5.8 MB/s eta 0:00:01\r\u001b[K     |███████████▊                    | 317 kB 5.8 MB/s eta 0:00:01\r\u001b[K     |████████████                    | 327 kB 5.8 MB/s eta 0:00:01\r\u001b[K     |████████████▌                   | 337 kB 5.8 MB/s eta 0:00:01\r\u001b[K     |████████████▉                   | 348 kB 5.8 MB/s eta 0:00:01\r\u001b[K     |█████████████▎                  | 358 kB 5.8 MB/s eta 0:00:01\r\u001b[K     |█████████████▋                  | 368 kB 5.8 MB/s eta 0:00:01\r\u001b[K     |██████████████                  | 378 kB 5.8 MB/s eta 0:00:01\r\u001b[K     |██████████████▍                 | 389 kB 5.8 MB/s eta 0:00:01\r\u001b[K     |██████████████▊                 | 399 kB 5.8 MB/s eta 0:00:01\r\u001b[K     |███████████████▏                | 409 kB 5.8 MB/s eta 0:00:01\r\u001b[K     |███████████████▌                | 419 kB 5.8 MB/s eta 0:00:01\r\u001b[K     |████████████████                | 430 kB 5.8 MB/s eta 0:00:01\r\u001b[K     |████████████████▎               | 440 kB 5.8 MB/s eta 0:00:01\r\u001b[K     |████████████████▋               | 450 kB 5.8 MB/s eta 0:00:01\r\u001b[K     |█████████████████               | 460 kB 5.8 MB/s eta 0:00:01\r\u001b[K     |█████████████████▍              | 471 kB 5.8 MB/s eta 0:00:01\r\u001b[K     |█████████████████▉              | 481 kB 5.8 MB/s eta 0:00:01\r\u001b[K     |██████████████████▏             | 491 kB 5.8 MB/s eta 0:00:01\r\u001b[K     |██████████████████▌             | 501 kB 5.8 MB/s eta 0:00:01\r\u001b[K     |███████████████████             | 512 kB 5.8 MB/s eta 0:00:01\r\u001b[K     |███████████████████▎            | 522 kB 5.8 MB/s eta 0:00:01\r\u001b[K     |███████████████████▊            | 532 kB 5.8 MB/s eta 0:00:01\r\u001b[K     |████████████████████            | 542 kB 5.8 MB/s eta 0:00:01\r\u001b[K     |████████████████████▍           | 552 kB 5.8 MB/s eta 0:00:01\r\u001b[K     |████████████████████▉           | 563 kB 5.8 MB/s eta 0:00:01\r\u001b[K     |█████████████████████▏          | 573 kB 5.8 MB/s eta 0:00:01\r\u001b[K     |█████████████████████▋          | 583 kB 5.8 MB/s eta 0:00:01\r\u001b[K     |██████████████████████          | 593 kB 5.8 MB/s eta 0:00:01\r\u001b[K     |██████████████████████▎         | 604 kB 5.8 MB/s eta 0:00:01\r\u001b[K     |██████████████████████▊         | 614 kB 5.8 MB/s eta 0:00:01\r\u001b[K     |███████████████████████         | 624 kB 5.8 MB/s eta 0:00:01\r\u001b[K     |███████████████████████▌        | 634 kB 5.8 MB/s eta 0:00:01\r\u001b[K     |███████████████████████▉        | 645 kB 5.8 MB/s eta 0:00:01\r\u001b[K     |████████████████████████▏       | 655 kB 5.8 MB/s eta 0:00:01\r\u001b[K     |████████████████████████▋       | 665 kB 5.8 MB/s eta 0:00:01\r\u001b[K     |█████████████████████████       | 675 kB 5.8 MB/s eta 0:00:01\r\u001b[K     |█████████████████████████▍      | 686 kB 5.8 MB/s eta 0:00:01\r\u001b[K     |█████████████████████████▊      | 696 kB 5.8 MB/s eta 0:00:01\r\u001b[K     |██████████████████████████▏     | 706 kB 5.8 MB/s eta 0:00:01\r\u001b[K     |██████████████████████████▌     | 716 kB 5.8 MB/s eta 0:00:01\r\u001b[K     |██████████████████████████▉     | 727 kB 5.8 MB/s eta 0:00:01\r\u001b[K     |███████████████████████████▎    | 737 kB 5.8 MB/s eta 0:00:01\r\u001b[K     |███████████████████████████▋    | 747 kB 5.8 MB/s eta 0:00:01\r\u001b[K     |████████████████████████████    | 757 kB 5.8 MB/s eta 0:00:01\r\u001b[K     |████████████████████████████▍   | 768 kB 5.8 MB/s eta 0:00:01\r\u001b[K     |████████████████████████████▊   | 778 kB 5.8 MB/s eta 0:00:01\r\u001b[K     |█████████████████████████████▏  | 788 kB 5.8 MB/s eta 0:00:01\r\u001b[K     |█████████████████████████████▌  | 798 kB 5.8 MB/s eta 0:00:01\r\u001b[K     |██████████████████████████████  | 808 kB 5.8 MB/s eta 0:00:01\r\u001b[K     |██████████████████████████████▎ | 819 kB 5.8 MB/s eta 0:00:01\r\u001b[K     |██████████████████████████████▋ | 829 kB 5.8 MB/s eta 0:00:01\r\u001b[K     |███████████████████████████████ | 839 kB 5.8 MB/s eta 0:00:01\r\u001b[K     |███████████████████████████████▍| 849 kB 5.8 MB/s eta 0:00:01\r\u001b[K     |███████████████████████████████▉| 860 kB 5.8 MB/s eta 0:00:01\r\u001b[K     |████████████████████████████████| 865 kB 5.8 MB/s \n",
            "\u001b[?25hInstalling collected packages: pyfiglet\n",
            "Successfully installed pyfiglet-0.8.post1\n"
          ]
        }
      ]
    },
    {
      "cell_type": "code",
      "metadata": {
        "colab": {
          "base_uri": "https://localhost:8080/"
        },
        "id": "JxMy79Ko-1TB",
        "outputId": "3a80b24a-85e0-4fb4-c7d4-0fde1b039113"
      },
      "source": [
        "import pyfiglet\n",
        "import sys,time,random\n",
        "\n",
        "halloween = pyfiglet.figlet_format(\"H appy Halloween\")\n",
        "\n",
        "typing_speed = 50 #wpm\n",
        "def slow_type(halloween):\n",
        "    for x in halloween :\n",
        "        sys.stdout.write(x)\n",
        "        sys.stdout.flush()\n",
        "        time.sleep(random.random()*49.0/typing_speed)\n",
        "\n",
        "slow_type(halloween)"
      ],
      "execution_count": null,
      "outputs": [
        {
          "output_type": "stream",
          "name": "stdout",
          "text": [
            " _   _                           \n",
            "| | | |   __ _ _ __  _ __  _   _ \n",
            "| |_| |  / _` | '_ \\| '_ \\| | | |\n",
            "|  _  | | (_| | |_) | |_) | |_| |\n",
            "|_| |_|  \\__,_| .__/| .__/ \\__, |\n",
            "              |_|   |_|    |___/ \n",
            " _   _       _ _                              \n",
            "| | | | __ _| | | _____      _____  ___ _ __  \n",
            "| |_| |/ _` | | |/ _ \\ \\ /\\ / / _ \\/ _ \\ '_ \\ \n",
            "|  _  | (_| | | | (_) \\ V  V /  __/  __/ | | |\n",
            "|_| |_|\\__,_|_|_|\\___/ \\_/\\_/ \\___|\\___|_| |_|\n",
            "                                              \n"
          ]
        }
      ]
    }
  ]
}