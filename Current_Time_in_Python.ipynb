{
  "nbformat": 4,
  "nbformat_minor": 0,
  "metadata": {
    "colab": {
      "name": "Current Time in Python.ipynb",
      "provenance": [],
      "authorship_tag": "ABX9TyPdsJ9nojomAyt44B8tK3ab",
      "include_colab_link": true
    },
    "kernelspec": {
      "name": "python3",
      "display_name": "Python 3"
    },
    "language_info": {
      "name": "python"
    }
  },
  "cells": [
    {
      "cell_type": "markdown",
      "metadata": {
        "id": "view-in-github",
        "colab_type": "text"
      },
      "source": [
        "<a href=\"https://colab.research.google.com/github/Shakestick/HelloWorld/blob/main/Current_Time_in_Python.ipynb\" target=\"_parent\"><img src=\"https://colab.research.google.com/assets/colab-badge.svg\" alt=\"Open In Colab\"/></a>"
      ]
    },
    {
      "cell_type": "code",
      "metadata": {
        "colab": {
          "base_uri": "https://localhost:8080/"
        },
        "id": "g3n1wEyterq3",
        "outputId": "0185badd-d822-4caf-92ff-1ca87ea94bbe"
      },
      "source": [
        " import datetime\n",
        " \n",
        "datetime.datetime.now()\n",
        "datetime.datetime(2021, 10, 14, 21, 40)\n",
        "print(datetime.datetime.now())\n"
      ],
      "execution_count": 5,
      "outputs": [
        {
          "output_type": "stream",
          "name": "stdout",
          "text": [
            "2021-10-14 20:28:54.395044\n"
          ]
        }
      ]
    }
  ]
}