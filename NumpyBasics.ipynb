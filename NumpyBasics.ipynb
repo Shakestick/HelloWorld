{
  "nbformat": 4,
  "nbformat_minor": 0,
  "metadata": {
    "colab": {
      "provenance": [],
      "authorship_tag": "ABX9TyNumOaRBSNBkK9oY2KVh6Gt",
      "include_colab_link": true
    },
    "kernelspec": {
      "name": "python3",
      "display_name": "Python 3"
    },
    "language_info": {
      "name": "python"
    }
  },
  "cells": [
    {
      "cell_type": "markdown",
      "metadata": {
        "id": "view-in-github",
        "colab_type": "text"
      },
      "source": [
        "<a href=\"https://colab.research.google.com/github/Shakestick/HelloWorld/blob/main/NumpyBasics.ipynb\" target=\"_parent\"><img src=\"https://colab.research.google.com/assets/colab-badge.svg\" alt=\"Open In Colab\"/></a>"
      ]
    },
    {
      "cell_type": "code",
      "execution_count": 11,
      "metadata": {
        "colab": {
          "base_uri": "https://localhost:8080/"
        },
        "id": "FW04fxyD38Eu",
        "outputId": "31ba927e-fe4f-4e85-b61a-6ea10cb09ac5"
      },
      "outputs": [
        {
          "output_type": "stream",
          "name": "stdout",
          "text": [
            "120\n"
          ]
        }
      ],
      "source": [
        "def factorial(n):\n",
        "  if n==0:\n",
        "    return 1 # Base case\n",
        "  else:\n",
        "    factorial = 1\n",
        "    for i in range(1,n+1): #Iterate from 1 to n\n",
        "      factorial *= i\n",
        "    return factorial\n",
        "\n",
        "print(factorial(5)) #Calling the function and printing the result\n",
        "\n",
        "\n"
      ]
    },
    {
      "cell_type": "code",
      "source": [
        "from re import I\n",
        "# Create lists first and second\n",
        "first = [11.25, 18.0, 20.0]\n",
        "second = [10.75, 9.50, 9.75, 8.95]\n",
        "third = (\"whose\", \"woods\", \"these\", \"are\", \"I\", \"think\", \"I\")\n",
        "\n",
        "# Paste together first and second: full\n",
        "full = first + second\n",
        "\n",
        "# Sort full in descending order: full_sorted\n",
        "full_sorted = sorted(full, reverse = True)\n",
        "\n",
        "# Print out full_sorted\n",
        "print(full_sorted)\n",
        "\n",
        "\n",
        "# Paste together first and second: full\n",
        "full = first + second\n",
        "\n",
        "# Sort full in descending order: full_sorted\n",
        "full_sorted = sorted(full, reverse = True)\n",
        "\n",
        "# print sorted\n",
        "print(full_sorted[1])\n",
        "\n",
        "#use append\n",
        "full_sorted.append([8.50, 7.25, 6.15, 5.50, 4.44, 4.44, 4.44, 3.11, 2.14, 1.11])\n",
        "\n",
        "#use count (to rtn no of times x appears in list)\n",
        "print(full_sorted.count(4.44))\n",
        "print(full_sorted.count(\"0\"))\n",
        "print(second[0])\n",
        "print(second[1])\n",
        "print(second[2])\n",
        "#use index\n",
        "index = full_sorted.index(11.25)\n",
        "print(index)\n",
        "\n",
        "print(third.index(\"I\"))\n",
        "\n",
        "# Print out full_sorted\n",
        "print(full_sorted)\n",
        "third.index(\"whose\")\n",
        "\n"
      ],
      "metadata": {
        "colab": {
          "base_uri": "https://localhost:8080/"
        },
        "id": "9mOQVOl5YKXB",
        "outputId": "eb61eb55-a16b-4863-fee1-7da8949ac0ad"
      },
      "execution_count": 1,
      "outputs": [
        {
          "output_type": "stream",
          "name": "stdout",
          "text": [
            "[20.0, 18.0, 11.25, 10.75, 9.75, 9.5, 8.95]\n",
            "0\n",
            "18.0\n",
            "0\n",
            "10.75\n",
            "9.5\n",
            "9.75\n",
            "2\n",
            "4\n",
            "[20.0, 18.0, 11.25, 10.75, 9.75, 9.5, 8.95, [8.5, 7.25, 6.15, 5.5, 4.44, 4.44, 4.44, 3.11, 2.14, 1.11]]\n"
          ]
        },
        {
          "output_type": "execute_result",
          "data": {
            "text/plain": [
              "0"
            ]
          },
          "metadata": {},
          "execution_count": 1
        }
      ]
    },
    {
      "cell_type": "code",
      "source": [
        "import numpy as np\n",
        "from numpy import array\n",
        "\n",
        "a = np.zeros(10)\n",
        "print(type(a[0]))\n",
        "print(a)\n",
        "b = np.array([1,2,3,4,5,6,7,8,9,10])\n",
        "\n",
        "# DIFFERENT SIZES OF ARRAY\n",
        "z = np.zeros(15)\n",
        "print(z)\n",
        "\n",
        "# CHANGE SHAPE OF ARRAY\n",
        "z.shape = (3,5)\n",
        "print(z)\n",
        "print(z.shape)\n",
        "print(b.shape)\n",
        "\n",
        "# PRINT NAME OF ARRAY & '.' eg. z.? TO SEE AVAILABLE FUNCTIONS\n",
        "print(z.sum)\n",
        "z.copy\n",
        "z.argmax\n",
        "z.argmin\n",
        "z.mean\n",
        "\n",
        "# IN JUPYTER '?' & (NAME OF ARRAY) TO SEE APPLICABLE DOC STRING, ATTRIBUTES,\n",
        "# PARAMETERS\n",
        "\n",
        "z.reshape # press spacebar after reshape to see doc string\n",
        "z.shape\n",
        "\n",
        "y = np.ones(10)\n",
        "print(y)\n",
        "print(y.shape)\n",
        "# CREATE EMPTY ARRAY\n",
        "x = np.empty(5)\n",
        "\n",
        "# LINSPACE METHOD OF ARRAY CREATION (Good for plots oraxes for graphs)\n",
        "\n",
        "print(np.linspace(2,10,5))\n",
        "print(np.linspace(2,10,10))\n",
        "print(np.linspace(2,10,20))\n",
        "\n",
        "# CREATE RANDOM ARRAYS\n",
        "\n",
        "W = np.random.rand(10)\n",
        "print(W)\n",
        "\n",
        "# ACCESS ELEMENTS OF AN ARRAY\n",
        "print(W[0])\n",
        "print(W[1])\n",
        "print(W[0:2]) # TO GET A RANGE\n",
        "print(W[-1]) # FOR LAST ELEMENT OF ARRAY\n",
        "\n",
        "# USE SIN IN NUMPY\n",
        "print(np.sin(W))\n",
        "\n",
        "# USE COS IN NUMPY\n",
        "print(np.cos(W))\n",
        "\n",
        "# USE TAN IN NUMPY\n",
        "print(np.tan(W))\n",
        "\n",
        "# USE STANDARD DEVIATION IN NUMPY\n",
        "print(np.std(W))\n",
        "\n",
        "# USE MEAN IN NUMPY\n",
        "print(np.mean(W))\n",
        "\n",
        "# USE MEDIAN IN NUMPY\n",
        "print(np.median(W))\n",
        "\n",
        "# USE VARIANCE IN NUMPY\n",
        "print(np.var(W))\n",
        "\n",
        "\n",
        "\n",
        "\n",
        "\n",
        "\n",
        "\n",
        "\n",
        "\n"
      ],
      "metadata": {
        "colab": {
          "base_uri": "https://localhost:8080/"
        },
        "id": "GezR7BV5eGI9",
        "outputId": "ffb7cc20-3a8e-47b2-d1b5-c8b4af7c9288"
      },
      "execution_count": 25,
      "outputs": [
        {
          "output_type": "stream",
          "name": "stdout",
          "text": [
            "<class 'numpy.float64'>\n",
            "[0. 0. 0. 0. 0. 0. 0. 0. 0. 0.]\n",
            "[0. 0. 0. 0. 0. 0. 0. 0. 0. 0. 0. 0. 0. 0. 0.]\n",
            "[[0. 0. 0. 0. 0.]\n",
            " [0. 0. 0. 0. 0.]\n",
            " [0. 0. 0. 0. 0.]]\n",
            "(3, 5)\n",
            "(10,)\n",
            "<built-in method sum of numpy.ndarray object at 0x7d8d51549b30>\n",
            "[1. 1. 1. 1. 1. 1. 1. 1. 1. 1.]\n",
            "(10,)\n",
            "[ 2.  4.  6.  8. 10.]\n",
            "[ 2.          2.88888889  3.77777778  4.66666667  5.55555556  6.44444444\n",
            "  7.33333333  8.22222222  9.11111111 10.        ]\n",
            "[ 2.          2.42105263  2.84210526  3.26315789  3.68421053  4.10526316\n",
            "  4.52631579  4.94736842  5.36842105  5.78947368  6.21052632  6.63157895\n",
            "  7.05263158  7.47368421  7.89473684  8.31578947  8.73684211  9.15789474\n",
            "  9.57894737 10.        ]\n",
            "[0.49977231 0.44348339 0.20580148 0.49554136 0.94065474 0.41381366\n",
            " 0.51677616 0.57097004 0.96731998 0.50916517]\n",
            "0.4997723058550946\n",
            "0.44348338863933445\n",
            "[0.49977231 0.44348339]\n",
            "0.5091651656264923\n",
            "[0.47922571 0.42908848 0.20435179 0.47550796 0.80794409 0.40210401\n",
            " 0.49407985 0.54044847 0.82336774 0.48744848]\n",
            "[0.8776917  0.90326246 0.97889752 0.87971142 0.58925916 0.915594\n",
            " 0.86941653 0.84137711 0.56750821 0.87315175]\n",
            "[0.54600688 0.47504296 0.20875708 0.54052722 1.37111843 0.43917283\n",
            " 0.568289   0.64233798 1.45084726 0.55826319]\n",
            "0.2198706822762483\n",
            "0.5563298278741587\n",
            "0.5044687357407934\n",
            "0.04834311692462294\n"
          ]
        }
      ]
    },
    {
      "cell_type": "code",
      "source": [
        "# STRING METHODS\n",
        "place = \"library\"\n",
        "fbshirts = [1,2,3,4,5,6,7,8,9,10,11]\n",
        "# USE upper() on place and call it place.upper\n",
        "place_up = place.upper()\n",
        "#PRINT THE NUMBER OF 'r's IN LIBRARY\n",
        "print(place_up)\n",
        "print(place.count(\"r\"))\n",
        "# USE APPEND\n",
        "fbshirts.append([12,13 ,14, 15, 16, 17])\n",
        "print(fbshirts)\n",
        "\n",
        "# USE REVERSE\n",
        "fbtirsh = fbshirts.reverse()\n",
        "print(fbshirts)\n",
        "fbshirts.reverse()\n",
        "\n",
        "# USE INDEX & COUNT\n",
        "print(place.count(\"r\"))\n",
        "print(fbshirts.count(6))\n",
        "print(place.index(\"r\"))\n",
        "print(fbshirts.index(11))\n",
        "\n"
      ],
      "metadata": {
        "colab": {
          "base_uri": "https://localhost:8080/"
        },
        "id": "rHUPGH1Esr72",
        "outputId": "09263b41-6927-4a78-df38-713ee894f643"
      },
      "execution_count": 26,
      "outputs": [
        {
          "output_type": "stream",
          "name": "stdout",
          "text": [
            "LIBRARY\n",
            "2\n",
            "[1, 2, 3, 4, 5, 6, 7, 8, 9, 10, 11, [12, 13, 14, 15, 16, 17]]\n",
            "[[12, 13, 14, 15, 16, 17], 11, 10, 9, 8, 7, 6, 5, 4, 3, 2, 1]\n",
            "2\n",
            "1\n",
            "3\n",
            "10\n"
          ]
        }
      ]
    },
    {
      "cell_type": "code",
      "source": [],
      "metadata": {
        "id": "Rp5Av9LHnBV8"
      },
      "execution_count": null,
      "outputs": []
    },
    {
      "cell_type": "code",
      "source": [
        "#  IMAGE MANIPULATION IN OPENCV, PILLOW, MATPLOTLIB\n",
        "\n",
        "# USE PHOTO\n",
        "from google.colab import files\n",
        "uploaded = files.upload()\n",
        "\n",
        "from google.colab import files\n",
        "from IPython.display import Image\n",
        "Image( 'Banner8.png')\n"
      ],
      "metadata": {
        "id": "c8qZ1IJHjlQj"
      },
      "execution_count": null,
      "outputs": []
    },
    {
      "cell_type": "code",
      "source": [
        "# IMPORT PACKAGE\n",
        "\n",
        "# Definition of radius\n",
        "r = 0.43\n",
        "\n",
        "# Import the math package\n",
        "import math\n",
        "\n",
        "# Calculate Circumference (C)\n",
        "C = 2 *math.pi * r\n",
        "\n",
        "# Calculate Area (A)\n",
        "A = math.pi *r **2\n",
        "\n",
        "# Build printout\n",
        "print(\"Circumference: \" + str(C))\n",
        "print(\"Area: \" + str(A))\n",
        "\n",
        "# Definition of radius\n",
        "rad = 192500\n",
        "\n",
        "# Import radians function of math package\n",
        "from math import radians\n",
        "from math import pi\n",
        "\n",
        "# Travel distance of Moon over 12 degrees. Store in dist.\n",
        "phi = radians(12)\n",
        "dist = rad * phi\n",
        "\n",
        "# Print out dist\n",
        "print(dist)\n",
        "\n",
        "# Import pi function of math package\n",
        "from math import pi\n",
        "\n",
        "# Calculate C\n",
        "C = 2 * 0.43 * pi\n",
        "\n",
        "# Calculate A\n",
        "A = pi * 0.43 ** 2\n",
        "\n",
        "print(\"Circumference: \" + str(C))\n",
        "print(\"Area: \" + str(A))\n"
      ],
      "metadata": {
        "colab": {
          "base_uri": "https://localhost:8080/"
        },
        "id": "Lkxh642qnE7-",
        "outputId": "a2519a38-207f-4ca6-ed5b-22f8437493f4"
      },
      "execution_count": 27,
      "outputs": [
        {
          "output_type": "stream",
          "name": "stdout",
          "text": [
            "Circumference: 2.701769682087222\n",
            "Area: 0.5808804816487527\n",
            "40317.10572106901\n",
            "Circumference: 2.701769682087222\n",
            "Area: 0.5808804816487527\n"
          ]
        }
      ]
    },
    {
      "cell_type": "code",
      "source": [
        "# BASIC NUMPY\n",
        "\n",
        "# Create list baseball\n",
        "baseball = [180, 215, 210, 210, 188, 176, 209, 200]\n",
        "\n",
        "# Import the numpy package as np\n",
        "import numpy as np\n",
        "\n",
        "# Create a numpy array from baseball: np_baseball\n",
        "np_baseball = np.array(baseball)\n",
        "\n",
        "# Print out type of np_baseball\n",
        "print(type(np_baseball))\n",
        "\n",
        "# You are a huge baseball fan. You decide to call the MLB (Major League\n",
        "# Baseball) and ask around for some more statistics on the height of the\n",
        "# main players. They pass along data on more than a thousand players,\n",
        "# which is stored as a regular Python list: height_in. The height is expressed\n",
        "# in inches. Can you make a numpy array out of it and convert the units to\n",
        "# meters?  NB: Height is available as a regular list\n",
        "\n",
        "# Import numpy\n",
        "import numpy as np\n",
        "\n",
        "# \" '[' was not closed error \" Means you forgot to apply commas between numbers.\n",
        "# del() deletes elements from a list\n",
        "\n",
        "height_in = [180, 215, 210, 210, 188, 176, 209, 200, 231, 180, 188, 180, 185, 160, 180, 185, 189, 185, 219, 230, 205, 230, 195, 180, 192, 225, 203, 195, 182, 188, 200, 180, 200, 200, 245, 240, 215, 185, 175, 199, 200, 215, 200, 205, 206, 186, 188, 220, 210, 195]\n",
        "\n",
        "weight_lb = [180, 215, 210, 210, 188, 176, 209, 200]\n",
        "np_weight_lb = [180, 215, 210, 210, 188, 176, 209, 200]\n",
        "\n",
        "# Create a numpy array from height_in: np_height_in\n",
        "np_height_in = np.array(height_in)\n",
        "\n",
        "# Print out np_height_in\n",
        "print(np_height_in)\n",
        "\n",
        "# Convert np_height_in to m: np_height_m\n",
        "np_height_m = np_height_in * 0.0254\n",
        "\n",
        "# Print np_height_m\n",
        "print(np_height_m)\n",
        "\n",
        "# Store weight and height lists as numpy arrays\n",
        "np_weight_lb = np.array(weight_lb)\n",
        "np_height_in = np.array(height_in)\n",
        "\n",
        "# Print out the weight at index 50\n",
        "print(np_weight_lb[:50])\n",
        "\n",
        "# Print out sub-array of np_height_in: index 100 up to and including index 110\n",
        "print(np_height_in[100:111])\n",
        "\n",
        "# print(np_baseball[49,:]) will print 5th row of np_baseball\n",
        "# np_weight_ln = np_baseball[:,1 Will Select entire 2nd column\n",
        "# print(np_baseball[123,0]) will print height of 124th player\n",
        "\n",
        "\n",
        "\n"
      ],
      "metadata": {
        "colab": {
          "base_uri": "https://localhost:8080/"
        },
        "id": "kTgZ9UkuOBcR",
        "outputId": "1d20b909-cade-4823-80f6-6ee7077ea211"
      },
      "execution_count": 16,
      "outputs": [
        {
          "output_type": "stream",
          "name": "stdout",
          "text": [
            "<class 'numpy.ndarray'>\n",
            "[180 215 210 210 188 176 209 200 231 180 188 180 185 160 180 185 189 185\n",
            " 219 230 205 230 195 180 192 225 203 195 182 188 200 180 200 200 245 240\n",
            " 215 185 175 199 200 215 200 205 206 186 188 220 210 195]\n",
            "[4.572  5.461  5.334  5.334  4.7752 4.4704 5.3086 5.08   5.8674 4.572\n",
            " 4.7752 4.572  4.699  4.064  4.572  4.699  4.8006 4.699  5.5626 5.842\n",
            " 5.207  5.842  4.953  4.572  4.8768 5.715  5.1562 4.953  4.6228 4.7752\n",
            " 5.08   4.572  5.08   5.08   6.223  6.096  5.461  4.699  4.445  5.0546\n",
            " 5.08   5.461  5.08   5.207  5.2324 4.7244 4.7752 5.588  5.334  4.953 ]\n",
            "[180 215 210 210 188 176 209 200]\n",
            "[]\n"
          ]
        }
      ]
    },
    {
      "cell_type": "code",
      "source": [
        "# 2D ARITHMETIC\n",
        "\n"
      ],
      "metadata": {
        "id": "nMq7RXC529XW"
      },
      "execution_count": null,
      "outputs": []
    },
    {
      "cell_type": "code",
      "source": [
        "# FIND DATA TYPE\n",
        "np_array = np.array([1,2,3])\n",
        "([1,2,3])\n",
        "print(type(np_array))\n",
        "\n",
        "# SUMMARY STATISTICS (MEAN, MEDIAN MODE)\n",
        "\n",
        "# MEAN FUNCTION       np.mean(np_city[:,0])\n",
        "# MEDIAN FUNCTION     np.median(np_city[:,0])\n",
        "# COR COEFFICIENT     np.corrcoef(np_city[:,0], np_city[:,1])\n",
        "# STANDARD DEVIATION  np.std(np_city[:,0])\n"
      ],
      "metadata": {
        "colab": {
          "base_uri": "https://localhost:8080/"
        },
        "id": "BwpNvAfvnEKg",
        "outputId": "619f137f-7dbb-480a-8db6-1edaf7742121"
      },
      "execution_count": 17,
      "outputs": [
        {
          "output_type": "stream",
          "name": "stdout",
          "text": [
            "<class 'numpy.ndarray'>\n"
          ]
        }
      ]
    },
    {
      "cell_type": "code",
      "source": [
        "# Reverse the order of elements in the list y\n",
        "b = [18, 5, 2, 4]\n",
        "b.reverse()\n",
        "print(b)\n",
        "\n",
        "# capitalise this whole sentence\n",
        "\n",
        "a = \"this is a random sentence\"\n",
        "print(y.upper())\n",
        "\n",
        "# outcome?\n",
        "x = [1, -1]\n",
        "y = x + [True, False]\n",
        "print(y)"
      ],
      "metadata": {
        "colab": {
          "base_uri": "https://localhost:8080/"
        },
        "id": "wsQxEDjTyaqF",
        "outputId": "1851d73a-c4a4-4d45-f411-91025ab7fe07"
      },
      "execution_count": 27,
      "outputs": [
        {
          "output_type": "stream",
          "name": "stdout",
          "text": [
            "[4, 2, 5, 18]\n",
            "THIS IS A RANDOM SENTENCE\n",
            "[1, -1, True, False]\n"
          ]
        }
      ]
    },
    {
      "cell_type": "code",
      "source": [
        "# prompt: create a scatter plot showing year = [1950, 1970, 1984, 1990, 2010] and pop = [2.519, 3.692, 5.263, 6.972]\n",
        "\n",
        "import matplotlib.pyplot as plt\n",
        "\n",
        "# Given data\n",
        "year = [1950, 1970, 1984, 1990, 2010]\n",
        "pop = [2.519, 3.692, 4.254, 5.263, 6.972]\n",
        "\n",
        "# Create the scatter plot\n",
        "print(plt.scatter(year, pop))\n",
        "\n",
        "#TRACEBACK ERRORS MUST BE READ BOTTOM UP (READ LAST LINE FIRST)\n",
        "# Show the plot\n",
        "plt.show(block=True)\n",
        "\n",
        "# Add labels and title\n",
        "plt.xlabel(\"Year\")\n",
        "plt.ylabel(\"Population (Billions)\")\n",
        "plt.title(\"World Population Growth\")\n",
        "\n",
        "# Display the plot\n",
        "plt.show()"
      ],
      "metadata": {
        "colab": {
          "base_uri": "https://localhost:8080/",
          "height": 903
        },
        "id": "L-m3_Y2YHg7z",
        "outputId": "3defc3bc-94ff-4171-c8cc-e87875484870"
      },
      "execution_count": 7,
      "outputs": [
        {
          "output_type": "stream",
          "name": "stdout",
          "text": [
            "<matplotlib.collections.PathCollection object at 0x78f3995bf3a0>\n"
          ]
        },
        {
          "output_type": "display_data",
          "data": {
            "text/plain": [
              "<Figure size 640x480 with 1 Axes>"
            ],
            "image/png": "[encoded data removed]"
          },
          "metadata": {}
        },
        {
          "output_type": "display_data",
          "data": {
            "text/plain": [
              "<Figure size 640x480 with 1 Axes>"
            ],
            "image/png": "[encoded data removed]"
          },
          "metadata": {}
        }
      ]
    },
    {
      "cell_type": "code",
      "source": [
        "plt.plot(Belmondo.Year, Belmondo.Medals, label = \"Belmondo\")\n",
        "plt.plot(Vyalbe.Year, Vyalbe.Medals, label = \"Yelena Vyalbe\")\n",
        "plt.xlabel(\"Olympic Games Year\")\n",
        "plt.ylabel(\"# Medals\")\n",
        "plt.title(\"Medals per year\")\n",
        "plt.\n",
        "plt.legend()\n",
        "plt.show()"
      ],
      "metadata": {
        "id": "dn95edfs74Y7"
      },
      "execution_count": null,
      "outputs": []
    },
    {
      "cell_type": "code",
      "source": [
        "# Print the last item from year and pop\n",
        "\n",
        "year = [1950, 1951, 1952, 1953, 1954, 1955, 1956, 1957, 1958, 1959, 1960, 1961, 1962, 1963, 1964, 1965, 1966, 1967, 1968, 1969, 1970, 1971, 1972, 1973, 1974, 1975, 1976, 1977, 1978, 1979, 1980, 1981, 1982, 1983, 1984, 1985, 1986, 1987, 1988, 1989, 1990, 1991, 1992, 1993, 1994, 1995, 1996, 1997, 1998, 1999, 2000, 2001, 2002, 2003, 2004, 2005, 2006, 2007, 2008, 2009, 2010, 2011, 2012, 2013, 2014, 2015, 2016, 2017, 2018, 2019, 2020, 2021, 2022, 2023, 2024, 2025, 2026, 2027, 2028, 2029, 2030, 2031, 2032, 2033, 2034, 2035, 2036, 2037, 2038, 2039, 2040, 2041, 2042, 2043, 2044, 2045, 2046, 2047, 2048, 2049, 2050, 2051, 2052, 2053, 2054, 2055, 2056, 2057, 2058, 2059, 2060, 2061, 2062, 2063, 2064, 2065, 2066, 2067, 2068, 2069, 2070, 2071, 2072, 2073, 2074, 2075, 2076, 2077, 2078, 2079, 2080, 2081, 2082, 2083, 2084, 2085, 2086, 2087, 2088, 2089, 2090, 2091, 2092, 2093, 2094, 2095, 2096, 2097, 2098, 2099, 2100]\n",
        "\n",
        "pop = [2.53, 2.57, 2.62, 2.67, 2.71, 2.76, 2.81, 2.86, 2.92, 2.97, 3.03, 3.08, 3.14, 3.2, 3.26, 3.33, 3.4, 3.47, 3.54, 3.62, 3.69, 3.77, 3.84, 3.92, 4.0, 4.07, 4.15, 4.22, 4.3, 4.37, 4.45, 4.53, 4.61, 4.69, 4.78, 4.86, 4.95, 5.05, 5.14, 5.23, 5.32, 5.41, 5.49, 5.58, 5.66, 5.74, 5.82, 5.9, 5.98, 6.05, 6.13, 6.2, 6.28, 6.36, 6.44, 6.51, 6.59, 6.67, 6.75, 6.83, 6.92, 7.0, 7.08, 7.16, 7.24, 7.32, 7.4, 7.48, 7.56, 7.64, 7.72, 7.79, 7.87, 7.94, 8.01, 8.08, 8.15, 8.22, 8.29, 8.36, 8.42, 8.49, 8.56, 8.62, 8.68, 8.74, 8.8, 8.86, 8.92, 8.98, 9.04, 9.09, 9.15, 9.2, 9.26, 9.31, 9.36, 9.41, 9.46, 9.5, 9.55, 9.6, 9.64, 9.68, 9.73, 9.77, 9.81, 9.85, 9.88, 9.92, 9.96, 9.99, 10.03, 10.06, 10.09, 10.13, 10.16, 10.19, 10.22, 10.25, 10.28, 10.31, 10.33, 10.36, 10.38, 10.41, 10.43, 10.46, 10.48, 10.5, 10.52, 10.55, 10.57, 10.59, 10.61, 10.63, 10.65, 10.66, 10.68, 10.7, 10.72, 10.73, 10.75, 10.77, 10.78, 10.79, 10.81, 10.82, 10.83, 10.84, 10.85]\n",
        "\n",
        "print(year[-1])\n",
        "\n",
        "print(pop[-1])\n",
        "\n",
        "\n",
        "# Import matplotlib.pyplot as plt\n",
        "import matplotlib.pyplot as plt\n",
        "\n",
        "# Make a line plot: year on the x-axis, pop on the y-axis\n",
        "plt.plot(year, pop)\n",
        "\n",
        "# Display the plot with plt.show()\n",
        "plt.show()"
      ],
      "metadata": {
        "colab": {
          "base_uri": "https://localhost:8080/",
          "height": 466
        },
        "id": "-bjmv4YvLROj",
        "outputId": "89945ce6-1e4b-4f69-a40d-eeeb507865d5"
      },
      "execution_count": 2,
      "outputs": [
        {
          "output_type": "stream",
          "name": "stdout",
          "text": [
            "2100\n",
            "10.85\n"
          ]
        },
        {
          "output_type": "display_data",
          "data": {
            "text/plain": [
              "<Figure size 640x480 with 1 Axes>"
            ],
            "image/png": "[encoded data removed]"
          },
          "metadata": {}
        }
      ]
    },
    {
      "cell_type": "code",
      "source": [],
      "metadata": {
        "id": "YlWoL4kRHaiE"
      },
      "execution_count": null,
      "outputs": []
    },
    {
      "cell_type": "code",
      "source": [
        "# LEARN HOW TO GET / CREATE USABLE DATA\n",
        "# LEARN NOW TO GENERATE / SIMUATE DATA\n",
        "# VECTOR ANALYSIS IN NUMPY\n"
      ],
      "metadata": {
        "id": "1DeuMZjVHToJ"
      },
      "execution_count": null,
      "outputs": []
    }
  ]
}