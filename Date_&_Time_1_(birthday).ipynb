{
  "nbformat": 4,
  "nbformat_minor": 0,
  "metadata": {
    "colab": {
      "name": "Date & Time 1 (birthday).ipynb",
      "provenance": [],
      "authorship_tag": "ABX9TyMiDjXeQyh3FM6QYaXGaduM",
      "include_colab_link": true
    },
    "kernelspec": {
      "name": "python3",
      "display_name": "Python 3"
    },
    "language_info": {
      "name": "python"
    }
  },
  "cells": [
    {
      "cell_type": "markdown",
      "metadata": {
        "id": "view-in-github",
        "colab_type": "text"
      },
      "source": [
        "<a href=\"https://colab.research.google.com/github/Shakestick/HelloWorld/blob/main/Date_%26_Time_1_(birthday).ipynb\" target=\"_parent\"><img src=\"https://colab.research.google.com/assets/colab-badge.svg\" alt=\"Open In Colab\"/></a>"
      ]
    },
    {
      "cell_type": "code",
      "metadata": {
        "colab": {
          "base_uri": "https://localhost:8080/"
        },
        "id": "EVJJsUGp5ZIY",
        "outputId": "9bf8d31e-4e90-4911-ff89-51661ea5a431"
      },
      "source": [
        "import datetime\n",
        "# https://www.youtube.com/watch?v=eirjjyP2qcQ\n",
        "d = datetime.date(2021,10,28)\n",
        "print(d)"
      ],
      "execution_count": 5,
      "outputs": [
        {
          "output_type": "stream",
          "name": "stdout",
          "text": [
            "2021-10-28\n"
          ]
        }
      ]
    },
    {
      "cell_type": "code",
      "metadata": {
        "colab": {
          "base_uri": "https://localhost:8080/"
        },
        "id": "MGHZJwXk6S8p",
        "outputId": "70da72db-4424-4871-d10f-5c2303bedbab"
      },
      "source": [
        "today = datetime.date.today()\n",
        "print(today.year)"
      ],
      "execution_count": 6,
      "outputs": [
        {
          "output_type": "stream",
          "name": "stdout",
          "text": [
            "2021\n"
          ]
        }
      ]
    },
    {
      "cell_type": "code",
      "metadata": {
        "colab": {
          "base_uri": "https://localhost:8080/"
        },
        "id": "ob5qARGa6Y4X",
        "outputId": "ae1f65ff-05f7-4aab-d919-e18759de4262"
      },
      "source": [
        "print(today.day)"
      ],
      "execution_count": 7,
      "outputs": [
        {
          "output_type": "stream",
          "name": "stdout",
          "text": [
            "28\n"
          ]
        }
      ]
    },
    {
      "cell_type": "code",
      "metadata": {
        "colab": {
          "base_uri": "https://localhost:8080/"
        },
        "id": "DpTfJQsn6bp3",
        "outputId": "14fc559b-6601-4c6d-a29b-d39dcd895716"
      },
      "source": [
        "print(today.isoweekday())"
      ],
      "execution_count": 8,
      "outputs": [
        {
          "output_type": "stream",
          "name": "stdout",
          "text": [
            "4\n"
          ]
        }
      ]
    },
    {
      "cell_type": "code",
      "metadata": {
        "colab": {
          "base_uri": "https://localhost:8080/"
        },
        "id": "KNQBjw_b6fB-",
        "outputId": "3af7e261-5e28-4822-f2e1-1f2ca82ae2c6"
      },
      "source": [
        "# TIME DELTAS\n",
        "# useful for doing operations on dates and times\n",
        "#time delta 7 days from now \n",
        "tdelta = datetime.timedelta(days=7)\n",
        "print(today + tdelta)"
      ],
      "execution_count": 11,
      "outputs": [
        {
          "output_type": "stream",
          "name": "stdout",
          "text": [
            "2021-11-04\n"
          ]
        }
      ]
    },
    {
      "cell_type": "code",
      "metadata": {
        "colab": {
          "base_uri": "https://localhost:8080/"
        },
        "id": "wYr5PUfx6uzm",
        "outputId": "3d68d0a1-ba37-481e-f383-1eab5a6ff3ef"
      },
      "source": [
        "# PRINT WHAT THE DATE WAS A WEEK AGO\n",
        "print(today - tdelta)"
      ],
      "execution_count": 12,
      "outputs": [
        {
          "output_type": "stream",
          "name": "stdout",
          "text": [
            "2021-10-21\n"
          ]
        }
      ]
    },
    {
      "cell_type": "code",
      "metadata": {
        "colab": {
          "base_uri": "https://localhost:8080/"
        },
        "id": "MMMgUrzA7IR8",
        "outputId": "d6c790d0-d23f-4b61-f72a-ef119494340c"
      },
      "source": [
        "# date2 = date1 + timedelta\n",
        "# tdelta = date1 + date2\n",
        "\n",
        "# how many days till my birthday\n",
        "bday = datetime.date(2022, 4, 3)\n",
        "till_bday = bday - today\n",
        "print(till_bday)"
      ],
      "execution_count": 17,
      "outputs": [
        {
          "output_type": "stream",
          "name": "stdout",
          "text": [
            "157 days, 0:00:00\n"
          ]
        }
      ]
    },
    {
      "cell_type": "code",
      "metadata": {
        "colab": {
          "base_uri": "https://localhost:8080/"
        },
        "id": "qPdf4b7p7wRK",
        "outputId": "46e49a36-cc5f-41a7-c567-0fbd38bfdbef"
      },
      "source": [
        "# how many days since my birthday\n",
        "bday = datetime.date(2021, 4, 3)\n",
        "till_bday = bday - today\n",
        "print(till_bday)"
      ],
      "execution_count": 18,
      "outputs": [
        {
          "output_type": "stream",
          "name": "stdout",
          "text": [
            "-208 days, 0:00:00\n"
          ]
        }
      ]
    },
    {
      "cell_type": "code",
      "metadata": {
        "colab": {
          "base_uri": "https://localhost:8080/"
        },
        "id": "0QgY-7jL9xeO",
        "outputId": "17898327-fae9-4e54-e434-fb3fc01b2e9c"
      },
      "source": [
        "# how many seconds til my birthday\n",
        "print(till_bday.total_seconds())"
      ],
      "execution_count": 19,
      "outputs": [
        {
          "output_type": "stream",
          "name": "stdout",
          "text": [
            "-17971200.0\n"
          ]
        }
      ]
    },
    {
      "cell_type": "code",
      "metadata": {
        "id": "XTQbp8sX9-Ib"
      },
      "source": [
        ""
      ],
      "execution_count": null,
      "outputs": []
    }
  ]
}