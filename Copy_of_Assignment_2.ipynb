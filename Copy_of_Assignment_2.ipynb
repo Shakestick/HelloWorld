{
  "nbformat": 4,
  "nbformat_minor": 0,
  "metadata": {
    "colab": {
      "name": "Copy of Assignment 2.ipynb",
      "provenance": [],
      "include_colab_link": true
    },
    "kernelspec": {
      "name": "python3",
      "display_name": "Python 3"
    },
    "language_info": {
      "name": "python"
    }
  },
  "cells": [
    {
      "cell_type": "markdown",
      "metadata": {
        "id": "view-in-github",
        "colab_type": "text"
      },
      "source": [
        "<a href=\"https://colab.research.google.com/github/Shakestick/HelloWorld/blob/main/Copy_of_Assignment_2.ipynb\" target=\"_parent\"><img src=\"https://colab.research.google.com/assets/colab-badge.svg\" alt=\"Open In Colab\"/></a>"
      ]
    },
    {
      "cell_type": "code",
      "metadata": {
        "id": "UJIjNTmjkTy3"
      },
      "source": [
        ""
      ],
      "execution_count": null,
      "outputs": []
    },
    {
      "cell_type": "markdown",
      "metadata": {
        "id": "nmyydO6UkZ8h"
      },
      "source": [
        "**SECOND ASSIGNMENT** \n",
        "You are in a jubilant mood. You now want to take it a notch higher. \n",
        "So, in your nature as a risk taker, you decided to design another program! \n",
        "Only this time the Program is lengthy and more meaningful.It goes as follows: \n",
        "\n",
        "Design a program to accept as a user input:\n",
        "\n",
        "*   Your first and last names\n",
        "*   Your country of Origin\n",
        "*   The nature of your current job \n",
        "*   Your email address \n",
        "*   Your Phone number\n",
        "*   Current city of residence\n",
        "*   Mailing address / Physical address\n",
        "*   Print output\n",
        "\n",
        "8.] Enter your Mailing address/ Physical address (Does not have to be your real address)\n",
        "Print out the output:\n",
        "\n",
        "\n"
      ]
    },
    {
      "cell_type": "code",
      "metadata": {
        "colab": {
          "base_uri": "https://localhost:8080/",
          "height": 180
        },
        "id": "IkDuju_gRhbj",
        "outputId": "3f395035-9117-43c4-d00c-4a3057c9af88"
      },
      "source": [
        "# enter first and last name\n",
        "name = input(\"what is your name?\")\n",
        "\n",
        "#enter country of origin\n",
        "country_of_origin = input(\"where are you from?\")\n",
        "\n",
        "#the nature of your current job\n",
        "current_job = input(\"Okay, and what do you do?\")\n",
        "\n",
        "#your email address\n",
        "email_address = input(\"I'd like to send you something, what's your email address?\")\n",
        "\n",
        "#your phone number\n",
        "phone_number = input(\"excellent and what's your phone number just in case?\")\n",
        "\n",
        "#current city of residence\n",
        "COR = input(\"What's your address? Where should the snail mail go?\")\n",
        "\n",
        "#errors preserved for later study, please see correction below\n",
        "print(\"Hello\" + str(name) +\" I'm glad to hear that you're from \" + str(country of origin)\". You said you were \"+ str(current_job ) \"How are you finding that?\" + str( \"and is it okay for me to add + str(email_address and ) + str(phone_number) (\"to our mailing list\") (\"lastly, can I confirm that your home address being\") +str(COR) + str(\"let us know your availability so we can arrange a visit. Thank you.\")   ) )\n"
      ],
      "execution_count": null,
      "outputs": [
        {
          "output_type": "error",
          "ename": "SyntaxError",
          "evalue": "ignored",
          "traceback": [
            "\u001b[0;36m  File \u001b[0;32m\"<ipython-input-1-16282062d639>\"\u001b[0;36m, line \u001b[0;32m19\u001b[0m\n\u001b[0;31m    print(\"Hello\" + str(name) +\" I'm glad to hear that you're from \" + str(country of origin)\". You said you were \"+ str(current_job ) \"How are you finding that?\" + str( \"and is it okay for me to add + str(email_address and ) + str(phone_number) (\"to our mailing list\") (\"lastly, can I confirm that your home address being\") +str(COR) + str(\"let us know your availability so we can arrange a visit. Thank you.\")   ) )\u001b[0m\n\u001b[0m                                                                                    ^\u001b[0m\n\u001b[0;31mSyntaxError\u001b[0m\u001b[0;31m:\u001b[0m invalid syntax\n"
          ]
        }
      ]
    },
    {
      "cell_type": "code",
      "metadata": {
        "id": "qujfla1EkVd7",
        "colab": {
          "base_uri": "https://localhost:8080/"
        },
        "outputId": "b08852ea-fb6f-45c5-98d8-4abb84778db7"
      },
      "source": [
        "# enter first and last name\n",
        "name = input(\"what is your name?\") \n",
        "\n",
        "#enter country of origin\n",
        "country_of_origin = input(\"where are you from?\")\n",
        "\n",
        "#the nature of your current job\n",
        "current_job = input(\"Okay, and what do you do?\")\n",
        "\n",
        "#your email address\n",
        "email_address = input(\"I'd like to send you something, what's your email address?\")\n",
        "\n",
        "#your phone number\n",
        "phone_number = input(\"excellent and what's your phone number just in case?\")\n",
        "\n",
        "#current city of residence\n",
        "COR = input(\"What's your address? Where should the snail mail go?\")\n",
        "\n",
        "#Thanks to Guru for assisting with concatenation and spacing\n",
        "print(\"Hello \" + str(name) + \" I'm glad to hear that you're from \" + str(country_of_origin) + \". You said you were \"+ str(current_job ) + \" How are you finding it?  and is it okay for me to add \" + str(email_address ) +\"and\" + str(phone_number) +  \" to our mailing list? Lastly, can I confirm your home address as \" +str(COR?) + \" If so, let us know your availability so we can arrange a visit. Thank you.\"    )\n"
      ],
      "execution_count": null,
      "outputs": [
        {
          "output_type": "stream",
          "name": "stdout",
          "text": [
            "what is your name?john\n",
            "where are you from?dubs\n",
            "Okay, and what do you do?software dev\n",
            "I'd like to send you something, what's your email address?john@gmail.com\n",
            "excellent and what's your phone number just in case?0111\n",
            "What's your address? Where should the snail mail go?miami\n",
            "Hellojohn I'm glad to hear that you're from dubs. You said you were software devHow are you finding that?  and is it okay for me to add john@gmail.comand0111to our mailing list,lastly, can I confirm that your home address beingmiamilet us know your availability so we can arrange a visit. Thank you.\n"
          ]
        }
      ]
    },
    {
      "cell_type": "code",
      "metadata": {
        "id": "lZRF28qEgw29"
      },
      "source": [
        ""
      ],
      "execution_count": null,
      "outputs": []
    },
    {
      "cell_type": "markdown",
      "metadata": {
        "id": "85yCtp7Io9cQ"
      },
      "source": [
        "More examples on concatenation"
      ]
    },
    {
      "cell_type": "code",
      "metadata": {
        "id": "2C8uZXf0pL8Y",
        "colab": {
          "base_uri": "https://localhost:8080/"
        },
        "outputId": "3d8de40d-2db4-4a3e-de3d-9e7c31010a99"
      },
      "source": [
        "#without spaces\n",
        "name = \"Mango\"\n",
        "print(\"hello, do you like\"+ str(name)+\"juice?\")\n",
        "\n",
        "#with spaces\n",
        "print(\"hello, do you like\" + \" \"+ str(name)+\" \" + \"juice?\")"
      ],
      "execution_count": null,
      "outputs": [
        {
          "output_type": "stream",
          "name": "stdout",
          "text": [
            "hello, do you likeMangojuice?\n",
            "hello, do you like Mango juice?\n"
          ]
        }
      ]
    },
    {
      "cell_type": "markdown",
      "metadata": {
        "id": "rS0LNnnohMZD"
      },
      "source": [
        "# New section"
      ]
    }
  ]
}