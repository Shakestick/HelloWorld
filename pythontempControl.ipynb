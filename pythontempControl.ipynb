{
  "nbformat": 4,
  "nbformat_minor": 0,
  "metadata": {
    "colab": {
      "name": "pythontc ",
      "provenance": [],
      "collapsed_sections": [],
      "authorship_tag": "ABX9TyPfXHuOquA+7AD3GTjrQYYV",
      "include_colab_link": true
    },
    "kernelspec": {
      "name": "python3",
      "display_name": "Python 3"
    },
    "language_info": {
      "name": "python"
    }
  },
  "cells": [
    {
      "cell_type": "markdown",
      "metadata": {
        "id": "view-in-github",
        "colab_type": "text"
      },
      "source": [
        "<a href=\"https://colab.research.google.com/github/Shakestick/HelloWorld/blob/main/pythontempControl.ipynb\" target=\"_parent\"><img src=\"https://colab.research.google.com/assets/colab-badge.svg\" alt=\"Open In Colab\"/></a>"
      ]
    },
    {
      "cell_type": "code",
      "metadata": {
        "id": "LIJNzbdYxM_K"
      },
      "source": [
        "def menu():\n",
        "  print(\"\\n1. Celsius to Fahrenheit\")\n",
        "  print(\"2. Fahrenheit to Celsius\")\n",
        "  print(\"3. Exit\")\n",
        "  pick = int(input(\"Enter a choice\"))\n",
        "  return pick\n",
        "\n",
        "  def toCelsius(f):\n",
        "    return int((f - 32) / 1.8)\n",
        "\n",
        "def toFahrenheit(c):\n",
        "  return int(c * 1.8 + 32)"
      ],
      "execution_count": 15,
      "outputs": []
    },
    {
      "cell_type": "code",
      "metadata": {
        "id": "z1cX1_Dl1eFJ"
      },
      "source": [
        "def toCelsius(f):\n",
        "  return int((f - 32) / 1.8)\n",
        "\n",
        "def toFahrenheit(c):\n",
        "  return int(c * 1.8 + 32)"
      ],
      "execution_count": 16,
      "outputs": []
    },
    {
      "cell_type": "code",
      "metadata": {
        "id": "2oUg-yOm2nvX"
      },
      "source": [
        "def main():\n",
        "  choice = menu()\n",
        "  while choice !=3:\n",
        "    if choice == 1:\n",
        "      # convert C to F\n",
        "      c = eval(input(\"Enter degrees Celsius:\"))\n",
        "      print(str(c) + \"C = \" + str(toFahrenheit(c)) + F)\n",
        "    elif  choice == 2:\n",
        "      # convert F to C\n",
        "      f = eval(input(\"Enter degrees Fahrenheit:\"))\n",
        "    else: pass\n",
        "    print(\"Invalid Entry\")\n",
        "  choice = menu()"
      ],
      "execution_count": 17,
      "outputs": []
    },
    {
      "cell_type": "code",
      "metadata": {
        "id": "j4LxCuqF2u-U"
      },
      "source": [
        "def main():\n",
        "  while choice !=3:\n",
        "    if choice == 1:\n",
        "      #convert C to F\n",
        "      c = eval(input(\"Enter degrees Celsius\"))\n",
        "      print(str(toFarenheit(c)))\n",
        "    elif choice == 2:\n",
        "      # convert F to C\n",
        "      f = eval(input(\"Enter degrees Farenheit:\"))\n",
        "      print(str)\n",
        "    else:\n",
        "      print(\"Invalid Entry\")\n",
        "    \n",
        "    choice = menu()"
      ],
      "execution_count": 18,
      "outputs": []
    },
    {
      "cell_type": "code",
      "metadata": {
        "id": "ue2TiYo6dWEm"
      },
      "source": [
        ""
      ],
      "execution_count": 12,
      "outputs": []
    },
    {
      "cell_type": "code",
      "metadata": {
        "id": "AVEL5IYtDlvr"
      },
      "source": [
        ""
      ],
      "execution_count": null,
      "outputs": []
    }
  ]
}