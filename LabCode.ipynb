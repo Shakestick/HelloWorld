{
  "cells": [
    {
      "cell_type": "markdown",
      "metadata": {
        "id": "view-in-github",
        "colab_type": "text"
      },
      "source": [
        "<a href=\"https://colab.research.google.com/github/Shakestick/HelloWorld/blob/main/LabCode.ipynb\" target=\"_parent\"><img src=\"https://colab.research.google.com/assets/colab-badge.svg\" alt=\"Open In Colab\"/></a>"
      ]
    },
    {
      "cell_type": "code",
      "source": [],
      "metadata": {
        "colab": {
          "base_uri": "https://localhost:8080/"
        },
        "id": "UX_60Le3j5FM",
        "outputId": "c110052e-327d-403e-a532-2638b9052fb8"
      },
      "execution_count": 12,
      "outputs": [
        {
          "output_type": "stream",
          "name": "stdout",
          "text": [
            "Bob Smith\n"
          ]
        }
      ]
    },
    {
      "cell_type": "code",
      "source": [],
      "metadata": {
        "colab": {
          "base_uri": "https://localhost:8080/"
        },
        "id": "856-hGtkjL8n",
        "outputId": "f4ecdfcb-0110-4b24-ce1f-db2bcc2d0a20"
      },
      "execution_count": 8,
      "outputs": [
        {
          "output_type": "stream",
          "name": "stdout",
          "text": [
            "['e', 'a', 'b']\n"
          ]
        }
      ]
    },
    {
      "cell_type": "code",
      "source": [],
      "metadata": {
        "id": "zDmNTnVlxNP7",
        "colab": {
          "base_uri": "https://localhost:8080/"
        },
        "outputId": "0d44b050-8c5c-4e92-a8eb-1eed24b850db"
      },
      "execution_count": 9,
      "outputs": [
        {
          "output_type": "stream",
          "name": "stdout",
          "text": [
            "1296\n"
          ]
        }
      ]
    },
    {
      "cell_type": "code",
      "source": [
        "# do this with other class / methods/ functions\n",
        "\n",
        "print(type(int (bool(\"1\"))))\n",
        "print()\n",
        "print(type(str (str(\"1\"))))"
      ],
      "metadata": {
        "colab": {
          "base_uri": "https://localhost:8080/"
        },
        "id": "L4PeO-Idj5LF",
        "outputId": "20bd1796-fd7b-4b70-ea90-253c97d6833b"
      },
      "execution_count": 16,
      "outputs": [
        {
          "output_type": "stream",
          "name": "stdout",
          "text": [
            "<class 'int'>\n",
            "\n",
            "<class 'str'>\n"
          ]
        }
      ]
    },
    {
      "cell_type": "code",
      "source": [
        "x = [\"e\",\"a\",\"b\"]\n",
        "y = x[1:]\n",
        "y[0] = \"g\"\n",
        "print(x)\n",
        "print()\n",
        "\n",
        "name = \"Bob\"\n",
        "surname = \" Smith\"\n",
        "print(name + surname)\n",
        "print()\n",
        "\n",
        "x = [\"e\",\"a\",\"b\"]\n",
        "y = x[1:]\n",
        "y[0] = \"g\"\n",
        "print(x)\n",
        "print()\n",
        "\n",
        "x = 6\n",
        "y = 4\n",
        "print( x ** y)\n",
        "print()\n",
        "\n",
        "x = [1, -1]\n",
        "y = x + [True, False]\n",
        "print(y)\n",
        "print()\n",
        "\n",
        "import numpy as np\n",
        "m = np.array([2,6,4])\n",
        "n = np.array([2,1,1])\n",
        "print(m*n)\n",
        "print()\n",
        "\n"
      ],
      "metadata": {
        "colab": {
          "base_uri": "https://localhost:8080/"
        },
        "id": "XnTqOhm3jnMu",
        "outputId": "5b9d10d8-4cfe-48fb-bf4e-e645cfd5b6a7"
      },
      "execution_count": 10,
      "outputs": [
        {
          "output_type": "stream",
          "name": "stdout",
          "text": [
            "['e', 'a', 'b']\n"
          ]
        }
      ]
    },
    {
      "cell_type": "code",
      "source": [
        "import numpy as np\n",
        "np_heights = np.array([[1.60,1.75],[1.56,1.70],[1.49,1.68]])\n",
        "print(np.mean(np_heights[:,0]))"
      ],
      "metadata": {
        "colab": {
          "base_uri": "https://localhost:8080/"
        },
        "id": "_NGANzaiey66",
        "outputId": "bdab29f7-b559-4a3c-cced-c1b21205373c"
      },
      "execution_count": 3,
      "outputs": [
        {
          "output_type": "stream",
          "name": "stdout",
          "text": [
            "1.55\n"
          ]
        }
      ]
    },
    {
      "cell_type": "code",
      "source": [
        "p = ['f', 'x', 'l']\n",
        "q = p + ['z']\n",
        "print(q)"
      ],
      "metadata": {
        "id": "9NNRRn5PexM1"
      },
      "execution_count": null,
      "outputs": []
    },
    {
      "cell_type": "code",
      "source": [
        "import numpy as np\n",
        "x = np.array([10,23,14,27])\n",
        "y = np.array([3,5,7,26])\n",
        "z = np.array([x,y])\n",
        "print(z.shape)"
      ],
      "metadata": {
        "colab": {
          "base_uri": "https://localhost:8080/"
        },
        "id": "aZNdATKCffSp",
        "outputId": "4a12d1fa-c935-4420-daf9-3d966e602f34"
      },
      "execution_count": 6,
      "outputs": [
        {
          "output_type": "stream",
          "name": "stdout",
          "text": [
            "(2, 4)\n"
          ]
        }
      ]
    },
    {
      "cell_type": "code",
      "source": [
        "#return 3\n",
        "import numpy as np\n",
        "\n",
        "x = [[\"a\",\"b\"],[\"c\",\"d\"]]\n",
        "print(x[0][1])\n",
        "\n",
        "np_x = np.array(x)\n",
        "print(np_x[:,1])\n",
        "\n",
        "x = [1,2,3,4,5]\n",
        "print(x[1:4, 4])\n",
        "\n",
        "\n",
        "z = np.array([[1,1,1],\n",
        "              [3,4,4]])\n",
        "print(z[1,0])\n",
        "print()\n",
        "\n",
        "#return [[3]]\n",
        "z = np.array([[1,1,1],\n",
        "              [3,4,4]])\n",
        "print(z[1:,:1])\n",
        "print()\n",
        "\n",
        "# select code to return output 29\n",
        "import numpy as np\n",
        "x = [16, 2, 12, 9, 15, 17, 10]\n",
        "print(x[-2] + x[-5])\n",
        "print()\n",
        "np_2d = np.array([[2,3],[4,5],[6,7]])\n",
        "print(np_2d[2,1])\n",
        "print()\n",
        "\n",
        "print(np.array([True, 1,2]) + np.array([3,4, False]))"
      ],
      "metadata": {
        "colab": {
          "base_uri": "https://localhost:8080/",
          "height": 257
        },
        "id": "V5OLbb0cKmpT",
        "outputId": "1e0e065a-5a6c-4bc8-b508-454ec3abbc7f"
      },
      "execution_count": null,
      "outputs": [
        {
          "output_type": "stream",
          "name": "stdout",
          "text": [
            "b\n",
            "['b' 'd']\n"
          ]
        },
        {
          "output_type": "error",
          "ename": "TypeError",
          "evalue": "list indices must be integers or slices, not tuple",
          "traceback": [
            "\u001b[0;31m---------------------------------------------------------------------------\u001b[0m",
            "\u001b[0;31mTypeError\u001b[0m                                 Traceback (most recent call last)",
            "\u001b[0;32m<ipython-input-15-c3b2db56263f>\u001b[0m in \u001b[0;36m<cell line: 11>\u001b[0;34m()\u001b[0m\n\u001b[1;32m      9\u001b[0m \u001b[0;34m\u001b[0m\u001b[0m\n\u001b[1;32m     10\u001b[0m \u001b[0mx\u001b[0m \u001b[0;34m=\u001b[0m \u001b[0;34m[\u001b[0m\u001b[0;36m1\u001b[0m\u001b[0;34m,\u001b[0m\u001b[0;36m2\u001b[0m\u001b[0;34m,\u001b[0m\u001b[0;36m3\u001b[0m\u001b[0;34m,\u001b[0m\u001b[0;36m4\u001b[0m\u001b[0;34m,\u001b[0m\u001b[0;36m5\u001b[0m\u001b[0;34m]\u001b[0m\u001b[0;34m\u001b[0m\u001b[0;34m\u001b[0m\u001b[0m\n\u001b[0;32m---> 11\u001b[0;31m \u001b[0mprint\u001b[0m\u001b[0;34m(\u001b[0m\u001b[0mx\u001b[0m\u001b[0;34m[\u001b[0m\u001b[0;36m1\u001b[0m\u001b[0;34m:\u001b[0m\u001b[0;36m4\u001b[0m\u001b[0;34m,\u001b[0m \u001b[0;36m4\u001b[0m\u001b[0;34m]\u001b[0m\u001b[0;34m)\u001b[0m\u001b[0;34m\u001b[0m\u001b[0;34m\u001b[0m\u001b[0m\n\u001b[0m\u001b[1;32m     12\u001b[0m \u001b[0;34m\u001b[0m\u001b[0m\n\u001b[1;32m     13\u001b[0m \u001b[0;34m\u001b[0m\u001b[0m\n",
            "\u001b[0;31mTypeError\u001b[0m: list indices must be integers or slices, not tuple"
          ]
        }
      ]
    },
    {
      "cell_type": "code",
      "source": [
        "import numpy as np\n",
        "print()\n",
        "\n",
        "print()\n",
        "print()\n",
        "# find std of x\n",
        "x = np.array([3.6,3.99,3.91])\n",
        "print(np.array(np.std(x)))\n",
        "print()\n",
        "m = np.array([6,2,4])\n",
        "n = 2\n",
        "print(m + n)\n",
        "print()\n",
        "x = 6\n",
        "y = 4\n",
        "print(x ** y)\n",
        "print()\n",
        "x = [7,8,9]\n",
        "y = [-3.3,-2,3.2] + x[0:2]\n",
        "print(len(y))\n",
        "print()\n",
        "x = [1,2,3]\n",
        "y = x\n",
        "y[0] = -1\n",
        "print(x)\n",
        "print()\n",
        "q = [37, 36, 0, 40, 32, 11]\n",
        "print(len(q))\n",
        "print()\n",
        "p = 2\n",
        "print(type(p))\n",
        "print()\n",
        "z = [-1.2,4,3.6,-5,1,-2,2.5]\n",
        "print(max(z))\n",
        "print()\n",
        "#find mean of first column of costs\n",
        "costs = np.column_stack(([3,2,1,3],\n",
        "                         [7,6,6,5]))\n",
        "mean_costs = np.mean(costs[:,0])\n",
        "print(mean_costs)\n",
        "print()\n",
        "np_heights = np.array([[1.75,1.65,1.8,1.5],[1.56,1.70,1.4,1.29],[1.49,1.68,1.3,1.8]])\n",
        "np.sort(np_heights[0])\n",
        "print(np.median(np_heights[:,0]))\n",
        "\n",
        "print()\n",
        "x = [6,5,8,2,4,0]\n",
        "print(x[5] + x[2])\n",
        "print()\n",
        "store = np.array([7,8,4,6])\n",
        "cost = np.array([76,87,68,88])\n",
        "np_cols = np.column_stack((store, cost))\n",
        "print(np_cols)\n",
        "\n",
        "print()\n",
        "x = [0,1,-2]\n",
        "x[1:] = [3,4,5]\n",
        "print(x)\n",
        "print()\n",
        "print(sorted([-1,3,-2], reverse = True))\n"
      ],
      "metadata": {
        "id": "Vt9jCJbxySyP"
      },
      "execution_count": null,
      "outputs": []
    },
    {
      "cell_type": "code",
      "source": [
        "import numpy as np\n",
        "z = np.array([[9,9,3],\n",
        "              [8,9,4,]]) #brackets easy to miss here.\n",
        "print(z[1,0])\n",
        "\n",
        "# ValueError: setting an array element with a sequence. The requested array has\n",
        "# an inhomogeneous shape after 1 dimensions. The detected shape was (4,) +\n",
        "# inhomogeneous part."
      ],
      "metadata": {
        "colab": {
          "base_uri": "https://localhost:8080/"
        },
        "id": "vOvRGH7WwNos",
        "outputId": "5de254fb-a53b-4943-9aad-39b03b64dd34"
      },
      "execution_count": null,
      "outputs": [
        {
          "output_type": "stream",
          "name": "stdout",
          "text": [
            "8\n"
          ]
        }
      ]
    },
    {
      "cell_type": "code",
      "source": [
        "import numpy as np\n",
        "\n",
        "np_2d = np.array([[1.5, 6.4, 7.8, 2.2],\n",
        "                  [4.3, 8.7, 1.9, 3.4],\n",
        "                 [5.3, 7.3, 9.4, 2.5]])\n",
        "print(np_2d[2:,2:])\n",
        "print()\n",
        "\n",
        "np_arr1 = np.array([1,2,3,4])\n",
        "np_arr2 = np.array([5,6,7,8])\n",
        "print()\n",
        "print(np.column_stack((np_arr1, np_arr2)))\n",
        "\n",
        "# Required Output: ['introduction', 'Python', 'DataCamp', 'R']\n",
        "practise = [\"introduction\", \"Python\", \"DataCamp\", \"R\", \"SQL\", \"Data Science\"]\n",
        "\n",
        "x = -6\n",
        "y = -2\n",
        "print(practise[x:y])\n",
        "\n",
        "x = practise.index(\"DataCamp\")\n",
        "print(x)"
      ],
      "metadata": {
        "colab": {
          "base_uri": "https://localhost:8080/"
        },
        "id": "dOB4o9JiuZFr",
        "outputId": "44e07db3-1354-448a-bfb3-33c5e204f9d9"
      },
      "execution_count": null,
      "outputs": [
        {
          "output_type": "stream",
          "name": "stdout",
          "text": [
            "[[9.4 2.5]]\n",
            "\n",
            "\n",
            "[[1 5]\n",
            " [2 6]\n",
            " [3 7]\n",
            " [4 8]]\n",
            "['introduction', 'Python', 'DataCamp', 'R']\n",
            "2\n"
          ]
        }
      ]
    },
    {
      "cell_type": "code",
      "source": [
        "p = \"True\"\n",
        "print(type(p))\n",
        "\n",
        "x = \"regulation\"\n",
        "print(x.replace(\"a\", \"/\"))"
      ],
      "metadata": {
        "colab": {
          "base_uri": "https://localhost:8080/"
        },
        "id": "Y0u1utYeuS1O",
        "outputId": "2ba32e8e-339f-4706-b688-8e52eeb79fa6"
      },
      "execution_count": null,
      "outputs": [
        {
          "output_type": "stream",
          "name": "stdout",
          "text": [
            "<class 'str'>\n",
            "regul/tion\n"
          ]
        }
      ]
    },
    {
      "cell_type": "code",
      "source": [
        "print(False * bool(3.2))"
      ],
      "metadata": {
        "colab": {
          "base_uri": "https://localhost:8080/"
        },
        "id": "FhJBOnBZ2LZq",
        "outputId": "a81bd21b-52ca-4a2f-b104-f4edd3dba2e6"
      },
      "execution_count": null,
      "outputs": [
        {
          "output_type": "stream",
          "name": "stdout",
          "text": [
            "0\n"
          ]
        }
      ]
    },
    {
      "cell_type": "code",
      "source": [
        "x = [\"1\", \"2\", \"3\", \"4\", \"5\"]\n",
        "numbers = list(x)\n",
        "x[0] = \"0\"\n",
        "print(numbers[0])\n",
        "#"
      ],
      "metadata": {
        "id": "UdaGzSrstI9O"
      },
      "execution_count": null,
      "outputs": []
    },
    {
      "cell_type": "code",
      "source": [
        "import numpy as np\n",
        "np_2d = np.array([[2,3],[4,5]])\n",
        "print(np_2d[-2,1])\n",
        "\n",
        "np.array([4,2,6]) * np.array([5,6,10])"
      ],
      "metadata": {
        "colab": {
          "base_uri": "https://localhost:8080/"
        },
        "id": "mmM7JaEiycOl",
        "outputId": "5db1e143-85c5-42fc-f8c0-1f28bcec2bed"
      },
      "execution_count": null,
      "outputs": [
        {
          "output_type": "stream",
          "name": "stdout",
          "text": [
            "3\n"
          ]
        },
        {
          "output_type": "execute_result",
          "data": {
            "text/plain": [
              "array([20, 12, 60])"
            ]
          },
          "metadata": {},
          "execution_count": 4
        }
      ]
    },
    {
      "cell_type": "code",
      "source": [
        "# return 29 as output\n",
        "\n",
        "import numpy as np\n",
        "x = [16, 2, 12, 9, 15, 17, 10]\n",
        "print(x[-2] + x[-5])"
      ],
      "metadata": {
        "colab": {
          "base_uri": "https://localhost:8080/"
        },
        "id": "5WUFtrqPspMn",
        "outputId": "87a8128e-708f-4201-f792-ef1c2da376e4"
      },
      "execution_count": null,
      "outputs": [
        {
          "output_type": "stream",
          "name": "stdout",
          "text": [
            "29\n"
          ]
        }
      ]
    },
    {
      "cell_type": "code",
      "source": [
        "import numpy as np\n",
        "x = np.array([6,4,5,7])\n",
        "y = np.array([5,1,8,7])\n",
        "print(np.corrcoef(x,y))"
      ],
      "metadata": {
        "id": "KVkS2OGItG7B"
      },
      "execution_count": null,
      "outputs": []
    },
    {
      "cell_type": "code",
      "source": [
        "# use .columns, .loc, .iloc, itterows\n",
        "#\n"
      ],
      "metadata": {
        "colab": {
          "base_uri": "https://localhost:8080/",
          "height": 110
        },
        "id": "1sY3mk2mAC3I",
        "outputId": "ce60e639-0511-400e-ceb2-eec934af54f4"
      },
      "execution_count": null,
      "outputs": [
        {
          "output_type": "error",
          "ename": "SyntaxError",
          "evalue": "invalid syntax. Perhaps you forgot a comma? (<ipython-input-40-82ac4d95cd1e>, line 4)",
          "traceback": [
            "\u001b[0;36m  File \u001b[0;32m\"<ipython-input-40-82ac4d95cd1e>\"\u001b[0;36m, line \u001b[0;32m4\u001b[0m\n\u001b[0;31m    not(not(x < 6) and not(y > 20 or y 10))\u001b[0m\n\u001b[0m                           ^\u001b[0m\n\u001b[0;31mSyntaxError\u001b[0m\u001b[0;31m:\u001b[0m invalid syntax. Perhaps you forgot a comma?\n"
          ]
        }
      ]
    },
    {
      "cell_type": "code",
      "source": [
        "# standard deviation\n",
        "import numpy as np\n",
        "np_2d = np.array ([[5,6,1,2,3,4],[4,5,3,2,1,8],[9,10,3,7,6,5]])\n",
        "print(np.median(np_2d[1,:]))\n",
        "\n"
      ],
      "metadata": {
        "colab": {
          "base_uri": "https://localhost:8080/"
        },
        "id": "WWnhf7dPyjdu",
        "outputId": "1887df73-1ae9-4bec-d48e-d52f2a572ade"
      },
      "execution_count": null,
      "outputs": [
        {
          "output_type": "stream",
          "name": "stdout",
          "text": [
            "3.5\n"
          ]
        }
      ]
    },
    {
      "cell_type": "code",
      "source": [
        "# CODE COMPREHENSION\n",
        "# return 0\n",
        "# return 1\n",
        "x = [\"1\", \"2\", \"3\", \"4\", \"5\"]\n",
        "numbers = list(x)\n",
        "x[0] = \"0\"\n",
        "print(numbers[0])\n"
      ],
      "metadata": {
        "id": "s7IS6XAWsm8J"
      },
      "execution_count": null,
      "outputs": []
    },
    {
      "cell_type": "code",
      "source": [
        "import numpy as np\n",
        "x = np.array([10, 15, 22, 13, 17, 20, 8])\n",
        "\n",
        "x_small = x[x < 17]\n",
        "print(x_small)"
      ],
      "metadata": {
        "colab": {
          "base_uri": "https://localhost:8080/"
        },
        "id": "cH6i8I2Eyeld",
        "outputId": "5d533a65-5791-4a90-f1cc-5d57a3e3d9f4"
      },
      "execution_count": null,
      "outputs": [
        {
          "output_type": "stream",
          "name": "stdout",
          "text": [
            "[10 15 13  8]\n"
          ]
        }
      ]
    },
    {
      "cell_type": "code",
      "source": [
        "#required output is 2,3,4\n",
        "i = 1\n",
        "while True:\n",
        "  if i % 3 == 0:\n",
        "    break\n",
        "  print(i)\n",
        "  i += 1\n",
        "  #outputs 1,2\n",
        "\n",
        "i = 1\n",
        "while i <=3:\n",
        "  i += 1\n",
        "  if i % 3 == 0:\n",
        "    continue\n",
        "  print(i)\n",
        "  #outputs 2,4\n",
        "\n",
        "i = 1\n",
        "while i <=3:\n",
        "  i = i + 1\n",
        "  print(i) # outputs 2,3,4\n"
      ],
      "metadata": {
        "colab": {
          "base_uri": "https://localhost:8080/"
        },
        "id": "9W1ttOYl_IzG",
        "outputId": "f1b6e394-1e7c-4869-fb0e-04f9d2e29cd1"
      },
      "execution_count": null,
      "outputs": [
        {
          "output_type": "stream",
          "name": "stdout",
          "text": [
            "1\n",
            "2\n",
            "2\n",
            "4\n",
            "2\n",
            "3\n",
            "4\n"
          ]
        }
      ]
    },
    {
      "cell_type": "code",
      "source": [
        "\n",
        "# errors likely due to space issues\n",
        "import numpy as np\n",
        "\n",
        "np_2d = np.array([[5, 6, 1, 2, 3, 4],\n",
        "                [4, 5,3,2,1,8],\n",
        "                [9, 10,3,7,6,5]])\n",
        "print(np.median(np_2d[1,:]))\n",
        "\n",
        "print(\"6\"*(2**2))\n"
      ],
      "metadata": {
        "colab": {
          "base_uri": "https://localhost:8080/"
        },
        "id": "w3zFfvYz3PNZ",
        "outputId": "d05308b6-ed6f-4003-fa4e-7242510ea955"
      },
      "execution_count": null,
      "outputs": [
        {
          "output_type": "stream",
          "name": "stdout",
          "text": [
            "3.5\n",
            "6666\n"
          ]
        }
      ]
    },
    {
      "cell_type": "code",
      "source": [
        "x = np.array([9,5])\n",
        "y = np.array([16,12])\n",
        "print(np.logical_or(x < 5, y > 15))"
      ],
      "metadata": {
        "colab": {
          "base_uri": "https://localhost:8080/"
        },
        "id": "X0KsW59j68tL",
        "outputId": "0c53f6c5-4e7a-4eac-8036-88af50d69a97"
      },
      "execution_count": null,
      "outputs": [
        {
          "output_type": "stream",
          "name": "stdout",
          "text": [
            "[ True False]\n"
          ]
        }
      ]
    },
    {
      "cell_type": "code",
      "source": [
        "# use corrcoef to complete code\n",
        "import numpy as np\n",
        "np_heights = np.array([[1.60,1.75],[1.56,1.70],[1.49,1.68]])\n",
        "print(np.corrcoef(np_heights[:,0],np_heights[:,1]))\n"
      ],
      "metadata": {
        "colab": {
          "base_uri": "https://localhost:8080/"
        },
        "id": "IJoUTezx5x-Z",
        "outputId": "48214585-7e84-48d2-d1a8-8e796928f8a1"
      },
      "execution_count": null,
      "outputs": [
        {
          "output_type": "stream",
          "name": "stdout",
          "text": [
            "[[1.         0.92155064]\n",
            " [0.92155064 1.        ]]\n"
          ]
        }
      ]
    },
    {
      "cell_type": "code",
      "source": [
        "import numpy as np\n",
        "store = np.array([\"X\", \"Z\", \"Z\", \"Z\"])\n",
        "cost = np.array([2,6,5,2])\n",
        "select_cost = cost[store == \"X\"]\n",
        "print(select_cost)"
      ],
      "metadata": {
        "colab": {
          "base_uri": "https://localhost:8080/"
        },
        "id": "ucszYCXG2chw",
        "outputId": "cae9f0b8-be91-43e0-f81b-751323b0da77"
      },
      "execution_count": null,
      "outputs": [
        {
          "output_type": "stream",
          "name": "stdout",
          "text": [
            "[2]\n"
          ]
        }
      ]
    },
    {
      "cell_type": "code",
      "source": [
        "import numpy as np\n",
        "\n",
        "np_2d = np.array([[2,3],[4,5],[6,7]])\n",
        "print(np_2d[2,1])\n",
        "print(np_2d[0,1])\n",
        "print(type(type(bool(\"1\"))))"
      ],
      "metadata": {
        "colab": {
          "base_uri": "https://localhost:8080/"
        },
        "id": "h62fOtKTyewP",
        "outputId": "89a3a755-aaa7-418f-8706-82051ac78dac"
      },
      "execution_count": null,
      "outputs": [
        {
          "output_type": "stream",
          "name": "stdout",
          "text": [
            "7\n",
            "3\n",
            "<class 'type'>\n"
          ]
        }
      ]
    },
    {
      "cell_type": "code",
      "source": [
        "# RETURN [False False False False False]\n",
        "x = np.array([1,6,3,1,7])\n",
        "bool_x = x == 5\n",
        "print(bool_x)"
      ],
      "metadata": {
        "colab": {
          "base_uri": "https://localhost:8080/"
        },
        "id": "yOxI-sGxzjAU",
        "outputId": "deb988e2-d3eb-4107-860e-27b574c2e4b7"
      },
      "execution_count": null,
      "outputs": [
        {
          "output_type": "stream",
          "name": "stdout",
          "text": [
            "[False False False False False]\n"
          ]
        }
      ]
    },
    {
      "cell_type": "code",
      "source": [
        "# prompt: what are the three arguments for np.random.normal() and how can I discover them?\n",
        "\n",
        "import numpy as np\n",
        "\n",
        "# The three arguments for np.random.normal() are:\n",
        "\n",
        "# 1. loc: The mean (“centre”) of the distribution.\n",
        "# 2. scale: The standard deviation (spread or “width”) of the distribution. Must be non-negative.\n",
        "# 3. size:  Output shape. If the given shape is, e.g., (m, n, k), then m * n * k samples are drawn. If size is None (default), a single value is returned if loc and scale are both scalars. Otherwise, np.broadcast(loc, scale).size samples are drawn.\n",
        "\n",
        "# SUMMARY: distribution, mean, standard deviation.\n",
        "\n",
        "# You can discover the arguments and their meaning using Python's built-in help function:\n",
        "\n",
        "help(np.random.normal)\n",
        "\n",
        "# Or by looking at the NumPy documentation online:\n",
        "# https://numpy.org/doc/stable/reference/random/generated/numpy.random.normal.html"
      ],
      "metadata": {
        "id": "vS94av9b0AQi"
      },
      "execution_count": null,
      "outputs": []
    },
    {
      "cell_type": "code",
      "source": [
        "# Return [3.14159265 7.06858347 8.04247719]\n",
        "import numpy as np\n",
        "import math\n",
        "radius = np.array([1,1.5,1.6])\n",
        "area = math.pi * (radius ** 2)\n",
        "boolean = area < 20\n",
        "print(area[boolean])"
      ],
      "metadata": {
        "colab": {
          "base_uri": "https://localhost:8080/"
        },
        "id": "8OqUO3Q40gXs",
        "outputId": "0dce2c1c-8d8f-43aa-f6b2-ed39b0695c62"
      },
      "execution_count": null,
      "outputs": [
        {
          "output_type": "stream",
          "name": "stdout",
          "text": [
            "[3.14159265 7.06858347 8.04247719]\n"
          ]
        }
      ]
    },
    {
      "cell_type": "code",
      "execution_count": null,
      "metadata": {
        "id": "DDUru-CMttaP"
      },
      "outputs": [],
      "source": [
        "x = ['aPPle', 'baNANa']\n",
        "\n",
        "def caps(li):\n",
        "  #Returns a list with all elements capitalised\n",
        "  def inner(w):\n",
        "    #Returns a capitalised word\n",
        "    w = w.upper()\n",
        "    return w\n",
        "  li = [inner(i) for i in li]\n",
        "  return li\n",
        "\n",
        "print(caps(x))"
      ]
    },
    {
      "cell_type": "code",
      "execution_count": null,
      "metadata": {
        "id": "5od76ye2uLzP"
      },
      "outputs": [],
      "source": [
        "# WHY DOESN'T THIS CODE\n",
        "x = ['aPPle', 'baNANa']\n",
        "\n",
        "def caps(li):\n",
        "  #Returns a list with all elements capitalised\n",
        "  def inner(w):\n",
        "    #Returns a capitalised word\n",
        "    return w.capitalise()\n",
        "  return ([inner(li[0]), inner(li[1])])\n",
        "  print(caps(x))\n"
      ]
    },
    {
      "cell_type": "code",
      "execution_count": null,
      "metadata": {
        "id": "jTxafqWXuSXN"
      },
      "outputs": [],
      "source": [
        "def print_name(name):\n",
        "               # Prints Helo & Person's name)\n",
        "  statement = \"Hello\" + name + \"!\"\n",
        "  print(statement)\n",
        "print_name(' mate')"
      ]
    },
    {
      "cell_type": "code",
      "source": [
        "# prompt: GENERATE USE CASE FOR IS NUMERIC METHOD\n",
        "\n",
        "def is_numeric(input_string):\n",
        "    \"\"\"\n",
        "    Checks if a given string represents a valid number (integer or floating-point).\n",
        "\n",
        "    Args:\n",
        "        input_string: The string to check.\n",
        "\n",
        "    Returns:\n",
        "        True if the string is numeric, False otherwise.\n",
        "    \"\"\"\n",
        "    try:\n",
        "        float(input_string)  # Try converting to float; handles both integers and floats\n",
        "        return True\n",
        "    except ValueError:\n",
        "        return False\n",
        "\n",
        "# Example usage\n",
        "test_cases = [\"123\", \"3.14\", \"-5\", \"0\", \"abc\", \"12.3a\", \"\"]\n",
        "for test_case in test_cases:\n",
        "    print(f\"'{test_case}' is numeric: {is_numeric(test_case)}\")"
      ],
      "metadata": {
        "id": "04TqQmMEfKyn"
      },
      "execution_count": null,
      "outputs": []
    },
    {
      "cell_type": "code",
      "source": [
        "# is numeric\n",
        "\n",
        "string = \"12345678910\"\n",
        "print(string.isnumeric())\n"
      ],
      "metadata": {
        "colab": {
          "base_uri": "https://localhost:8080/"
        },
        "id": "lUiSgOvDgFJE",
        "outputId": "7781d3d0-dd60-4e33-8d44-fe896d84e3bf"
      },
      "execution_count": null,
      "outputs": [
        {
          "output_type": "stream",
          "name": "stdout",
          "text": [
            "True\n"
          ]
        }
      ]
    },
    {
      "cell_type": "code",
      "source": [
        "# IS WHITE SPACE CHARACTER\n",
        "# \\n = new line  \\t = new tab \\V = VERTICAL TAB \\r = carriage return\n",
        "# \\f = formatted string literals\n",
        "\n",
        "string = \" \\n\\t\\r\"\n",
        "print(string.isspace())\n",
        "#"
      ],
      "metadata": {
        "colab": {
          "base_uri": "https://localhost:8080/"
        },
        "id": "csN24Ms3iCC5",
        "outputId": "6de0bae6-34a2-4fff-a5c9-ff75ac620e1e"
      },
      "execution_count": null,
      "outputs": [
        {
          "output_type": "stream",
          "name": "stdout",
          "text": [
            "True\n"
          ]
        }
      ]
    },
    {
      "cell_type": "code",
      "source": [
        "# COUNT THE WORDS IN A STRING\n",
        "\n",
        "import string\n",
        "\n",
        "example = \"9 Words separated by space_but dashes '-' are not words\"\n",
        "\n",
        "# Remove punctuation from strong\n",
        "\n",
        "after = example.translate(str.maketrans('', '', string.punctuation))\n",
        "words = after.split()\n",
        "\n",
        "\n",
        "# Count the words in the string\n",
        "\n",
        "total_words = len(words)\n",
        "print(total_words)\n",
        "\n",
        "words = example.split()\n",
        "print(words)\n",
        "\n"
      ],
      "metadata": {
        "colab": {
          "base_uri": "https://localhost:8080/"
        },
        "id": "FJO9qOuqoYBy",
        "outputId": "2d7b12f1-82e5-49bd-8714-b844ae6f6df0"
      },
      "execution_count": null,
      "outputs": [
        {
          "output_type": "stream",
          "name": "stdout",
          "text": [
            "9\n",
            "['9', 'Words', 'separated', 'by', 'space_but', 'dashes', \"'-'\", 'are', 'not', 'words']\n"
          ]
        }
      ]
    },
    {
      "cell_type": "code",
      "source": [
        "# prompt: generate count the number of words in a string with explanation\n",
        "\n",
        "def count_words(text):\n",
        "    \"\"\"\n",
        "    Counts the number of words in a given string.\n",
        "\n",
        "    Args:\n",
        "        text: The input string.\n",
        "\n",
        "    Returns:\n",
        "        The number of words in the string.\n",
        "    \"\"\"\n",
        "\n",
        "    # Remove leading/trailing whitespace\n",
        "    text = text.strip()\n",
        "\n",
        "    # Handle empty strings\n",
        "    if not text:\n",
        "        return 0\n",
        "\n",
        "    # Split the string into words using whitespace as the delimiter\n",
        "    words = text.split()\n",
        "\n",
        "    return len(words)\n",
        "\n",
        "\n",
        "# Example usage (demonstrating the function with the provided code):\n",
        "code_example = \"\"\"\n",
        "x = ['aPPle', 'baNANa']\n",
        "\n",
        "def caps(li):\n",
        "  #Returns a list with all elements capitalised\n",
        "  def inner(w):\n",
        "    #Returns a capitalised word\n",
        "    w = w.upper()\n",
        "    return w\n",
        "  li = [inner(i) for i in li]\n",
        "  return li\n",
        "\n",
        "print(caps(x))\n",
        "# WHY DOESN'T THIS CODE\n",
        "x = ['aPPle', 'baNANa']\n",
        "\n",
        "def caps(li):\n",
        "  #Returns a list with all elements capitalised\n",
        "  def inner(w):\n",
        "    #Returns a capitalised word\n",
        "    return w.capitalise()\n",
        "  return ([inner(li[0]), inner(li[1])])\n",
        "  print(caps(x))\n",
        "\n",
        "def print_name(name):\n",
        "               # Prints Helo & Person's name)\n",
        "  statement = \"Hello\" + name + \"!\"\n",
        "  print(statement)\n",
        "print_name(' mate')\n",
        "\n",
        "def is_numeric(input_string):\n",
        "    # ... (function code)\n",
        "\n",
        "string = \"12345678910\"\n",
        "print(string.isnumeric())\n",
        "\n",
        "string = \" \\n\\t\\r\"\n",
        "print(string.isspace())\n",
        "\"\"\"\n",
        "\n",
        "word_count = count_words(code_example)\n",
        "print(f\"The code example contains {word_count} words.\")"
      ],
      "metadata": {
        "id": "d5JgHVTznveA"
      },
      "execution_count": null,
      "outputs": []
    },
    {
      "cell_type": "code",
      "execution_count": null,
      "metadata": {
        "id": "B7FTxsxyuiyD"
      },
      "outputs": [],
      "source": [
        "def convert_yards(y, feet = True):\n",
        "  if feet is True:\n",
        "    new_y = y * 3\n",
        "  else:\n",
        "    new_y = y * 36\n",
        "  return new_y\n",
        "print(convert_yards(10))"
      ]
    },
    {
      "cell_type": "code",
      "execution_count": null,
      "metadata": {
        "id": "wmV2gCHsuni8"
      },
      "outputs": [],
      "source": [
        "def square(s):\n",
        "  # returns area & perimeter of a square\n",
        "  try:\n",
        "    a = s * s\n",
        "    p = 4 * s\n",
        "    return a, p\n",
        "  except  TypeError:\n",
        "    print('s can not be a string')\n",
        "square(5)\n"
      ]
    },
    {
      "cell_type": "code",
      "execution_count": null,
      "metadata": {
        "id": "11ibW08Qur23"
      },
      "outputs": [],
      "source": [
        "temp = 15\n",
        "def convert_temp (x):\n",
        "  #Converts the temperature from CElsius to Fahrenheit\n",
        "  global temp\n",
        "  temp = (x * 1.8) + 32\n",
        "convert_temp(temp)\n",
        "print(temp)"
      ]
    },
    {
      "cell_type": "code",
      "execution_count": null,
      "metadata": {
        "colab": {
          "background_save": true
        },
        "id": "yUJvi9A9uwEq"
      },
      "outputs": [],
      "source": [
        "class Solution:\n",
        "  def isPalindrome(Self, x: int) -> bool:\n",
        "    if x < 0 or (x%10 == 0 and x!= 0):\n",
        "      return False\n",
        "      rev = 0\n",
        "    while x > rev:\n",
        "      rev = rev * 10 + x % 10\n",
        "      x = x // 10\n",
        "    return x == rev or x == rev // 10"
      ]
    },
    {
      "cell_type": "code",
      "source": [
        "# ALPHA NUMERIC String isalnum() method. | Note a space \" \" , or . are not alpha numeric.\n",
        "#\n",
        "string = \"abc123\"\n",
        "print(string.isalnum())\n",
        "\n",
        "string = \"abc 123\"\n",
        "print(string.isalnum())\n"
      ],
      "metadata": {
        "id": "nlkq2ZjfXcaA"
      },
      "execution_count": null,
      "outputs": []
    },
    {
      "cell_type": "code",
      "source": [
        "# prompt: How do you define a basic function?\n",
        "\n",
        "def basic_function(parameter1, parameter2):\n",
        "  \"\"\"\n",
        "  This is a basic function definition.\n",
        "\n",
        "  Args:\n",
        "    parameter1: The first parameter.\n",
        "    parameter2: The second parameter.\n",
        "\n",
        "  Returns:\n",
        "    The result of the function.\n",
        "  \"\"\"\n",
        "  # Function body - your code goes here\n",
        "  result = parameter1 + parameter2  # Example operation\n",
        "  return result"
      ],
      "metadata": {
        "id": "Ws5yf3EvWD4g"
      },
      "execution_count": null,
      "outputs": []
    },
    {
      "cell_type": "code",
      "source": [
        "# LEETCODE 125 VALID PALINDROME\n",
        "\n",
        "# A phrase is a palindrome if, after converting all uppercase letters into lower\n",
        "# case letters and removing all non-alphanumeric characters, it reads the same\n",
        "# forward and backward. Alphanumeric characters include letters and numbers.\n",
        "\n",
        "# Given a string s, return true if it is a palindrome or false otherwise.\n",
        "\n",
        "# Eg1:\n",
        "# Input:   s = \"A man, a plan a canal: Panama\"\n",
        "# Output:  true\n",
        "# Explanaton: \"amanaplanacanalpanama\" is a palindrome.\n",
        "\n",
        "# Example 2:\n",
        "\n",
        "#Input: s = \"race a car\"\n",
        "#Output: false\n",
        "#Explanation: \"raceacar\" is not a palindrome.\n",
        "#Example 3:\n",
        "\n",
        "#Input: s = \" \"\n",
        "#Output: true\n",
        "#Explanation: s is an empty string \"\" after removing non-alphanumeric characters\n",
        "#Since an empty string reads the same forward and backward, it is a palindrome.\n",
        "\n",
        "\n",
        "#Constraints:\n",
        "\n",
        "# 1 <= s.length <= 2 * 105\n",
        "# s consists only of printable ASCII characters.\n",
        "\n",
        "class Solution:\n",
        "  def isPalindrome(self, s: str) -> bool:\n",
        "    n = len(s)\n",
        "    L = 0\n",
        "    R = n - 1\n",
        "    while L < R:\n",
        "      if not s[L].isalnum():\n",
        "        L += 1\n",
        "        continue\n",
        "      if not s[R].isalnum():\n",
        "        R -= 1\n",
        "        continue\n",
        "      if s[L].lower() != s[R].lower():\n",
        "        return False\n",
        "      L += 1\n",
        "      R -= 1\n",
        "    return True"
      ],
      "metadata": {
        "id": "eBzcjMSTTe5l"
      },
      "execution_count": null,
      "outputs": []
    },
    {
      "cell_type": "code",
      "source": [
        "# prompt: Write a palindrome veriication that asks for input\n",
        "\n",
        "def is_palindrome(text):\n",
        "    processed_text = ''.join(filter(str.isalnum, text)).lower()\n",
        "    return processed_text == processed_text[::-1]\n",
        "\n",
        "input_string = input(\"Enter a string: \")\n",
        "if is_palindrome(input_string):\n",
        "    print(\"The string is a palindrome.\")\n",
        "else:\n",
        "    print(\"The string is not a palindrome.\")\n",
        "\n",
        "print(is_palindrome())"
      ],
      "metadata": {
        "id": "Kxlvc5hxTg1x"
      },
      "execution_count": null,
      "outputs": []
    },
    {
      "cell_type": "markdown",
      "source": [],
      "metadata": {
        "id": "iGNeK600VMwv"
      }
    },
    {
      "cell_type": "code",
      "source": [
        "# prompt: five examples of machine learning tasks\n",
        "\n",
        "# 1. Image Classification: Training a model to identify objects within images (e.g., cats vs. dogs, identifying different types of plants).\n",
        "\n",
        "# 2. Sentiment Analysis:  Analyzing text data to determine the emotional tone (positive, negative, or neutral) expressed in it.  This is commonly used for analyzing customer reviews or social media posts.\n",
        "\n",
        "# 3. Fraud Detection: Building a model to identify fraudulent transactions by analyzing patterns in financial data.\n",
        "\n",
        "# 4. Customer Segmentation: Grouping customers based on their purchasing behavior, demographics, or other characteristics. This helps businesses tailor marketing campaigns or product recommendations to specific groups.\n",
        "\n",
        "# 5. Time Series Forecasting: Predicting future values of a variable over time, such as stock prices, weather patterns, or sales figures."
      ],
      "metadata": {
        "id": "jJUNEGZAUgqg"
      },
      "execution_count": null,
      "outputs": []
    },
    {
      "cell_type": "code",
      "source": [
        "# Create a new, empty list. Go through each item in the input list. Square it,\n",
        "# Append it t new list  & return new list.\n",
        "\n",
        "def square_list(input_list):\n",
        "  new_list = [0]\n",
        "  for item in input_list:\n",
        "    new_item = item ** 2\n",
        "    new_list.append(new_item)\n",
        "  return new_list"
      ],
      "metadata": {
        "id": "Sx_rCtPfU4sQ"
      },
      "execution_count": 2,
      "outputs": []
    },
    {
      "cell_type": "code",
      "source": [
        "# prompt: five common pure functions that programmers use\n",
        "\n",
        "import math\n",
        "import string\n",
        "\n",
        "# 1. `math.sqrt()`\n",
        "#    - Purpose: Calculates the square root of a number.\n",
        "#    - Purity: Always returns the same output for the same input. No side effects.\n",
        "#    - Example:\n",
        "#      ```python\n",
        "#      result = math.sqrt(16)  # result will always be 4.0\n",
        "#      ```\n",
        "\n",
        "# 2. `string.upper()`\n",
        "#    - Purpose: Converts a string to uppercase.\n",
        "#    - Purity: Always returns the same uppercase version of the string. No side effects.\n",
        "#    - Example:\n",
        "#      ```python\n",
        "#      text = \"hello\"\n",
        "#      uppercase_text = text.upper()  # uppercase_text will always be \"HELLO\"\n",
        "#      ```\n",
        "\n",
        "# 3. `len()`\n",
        "#    - Purpose: Returns the length of a sequence (string, list, tuple, etc.)\n",
        "#    - Purity: Given the same input, it always returns the same length. Has no side effects.\n",
        "#    - Example:\n",
        "#       ```python\n",
        "#       my_list = [1, 2, 3]\n",
        "#       list_length = len(my_list) # list_length will always be 3.\n",
        "#       ```\n",
        "\n",
        "# 4. `max()`\n",
        "#    - Purpose: Returns the largest item in an iterable or the largest of two or more arguments.\n",
        "#    - Purity:  Always returns the same maximum value for a given input. Has no side effects.\n",
        "#    - Example:\n",
        "#       ```python\n",
        "#       numbers = [1, 5, 2, 8, 3]\n",
        "#       largest_number = max(numbers) # largest_number will always be 8.\n",
        "#       ```\n",
        "\n",
        "\n",
        "#      ```"
      ],
      "metadata": {
        "id": "9ouDJXdxlDdS"
      },
      "execution_count": null,
      "outputs": []
    },
    {
      "cell_type": "code",
      "source": [
        "# prompt: write the type() function from scratch\n",
        "\n",
        "def type_(obj):\n",
        "    if isinstance(obj, int):\n",
        "        return \"int\"\n",
        "    elif isinstance(obj, float):\n",
        "        return \"float\"\n",
        "    elif isinstance(obj, str):\n",
        "        return \"str\"\n",
        "    elif isinstance(obj, bool):\n",
        "        return \"bool\"\n",
        "    elif isinstance(obj, list):\n",
        "        return \"list\"\n",
        "    elif isinstance(obj, tuple):\n",
        "        return \"tuple\"\n",
        "    elif isinstance(obj, dict):\n",
        "        return \"dict\"\n",
        "    elif isinstance(obj, set):\n",
        "        return \"set\"\n",
        "    elif isinstance(obj, type(None)):\n",
        "        return \"NoneType\"\n",
        "    # Add more type checks as needed\n",
        "    else:\n",
        "        return \"unknown\""
      ],
      "metadata": {
        "colab": {
          "base_uri": "https://localhost:8080/"
        },
        "id": "uCLYsy7slOzQ",
        "outputId": "584d2cbb-c5d7-44f5-d679-dd94eda73f19"
      },
      "execution_count": 6,
      "outputs": [
        {
          "output_type": "stream",
          "name": "stdout",
          "text": [
            "<class 'type'>\n"
          ]
        }
      ]
    },
    {
      "cell_type": "code",
      "source": [
        "# prompt: write the isinstance() function from scratch\n",
        "\n",
        "def type_(obj):\n",
        "    if type(obj) == int:\n",
        "        return \"int\"\n",
        "    elif type(obj) == float:\n",
        "        return \"float\"\n",
        "    elif type(obj) == str:\n",
        "        return \"str\"\n",
        "    elif type(obj) == bool:\n",
        "        return \"bool\"\n",
        "    elif type(obj) == list:\n",
        "        return \"list\"\n",
        "    elif type(obj) == tuple:\n",
        "        return \"tuple\"\n",
        "    elif type(obj) == dict:\n",
        "        return \"dict\"\n",
        "    elif type(obj) == set:\n",
        "        return \"set\"\n",
        "    elif obj is None:\n",
        "        return \"NoneType\"\n",
        "    else:\n",
        "        return \"unknown\""
      ],
      "metadata": {
        "id": "5kJelpE_pd8G"
      },
      "execution_count": null,
      "outputs": []
    }
  ],
  "metadata": {
    "colab": {
      "provenance": [],
      "gpuType": "T4",
      "authorship_tag": "ABX9TyOFL4CSifD19U+dFH/M9WJk",
      "include_colab_link": true
    },
    "kernelspec": {
      "display_name": "Python 3",
      "name": "python3"
    },
    "language_info": {
      "name": "python"
    },
    "accelerator": "GPU"
  },
  "nbformat": 4,
  "nbformat_minor": 0
}