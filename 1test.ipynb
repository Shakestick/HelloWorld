{
  "nbformat": 4,
  "nbformat_minor": 0,
  "metadata": {
    "colab": {
      "provenance": [],
      "authorship_tag": "ABX9TyNaCbZyw7zUhatDRTlh6cJA",
      "include_colab_link": true
    },
    "kernelspec": {
      "name": "python3",
      "display_name": "Python 3"
    },
    "language_info": {
      "name": "python"
    }
  },
  "cells": [
    {
      "cell_type": "markdown",
      "metadata": {
        "id": "view-in-github",
        "colab_type": "text"
      },
      "source": [
        "<a href=\"https://colab.research.google.com/github/Shakestick/HelloWorld/blob/main/1test.ipynb\" target=\"_parent\"><img src=\"https://colab.research.google.com/assets/colab-badge.svg\" alt=\"Open In Colab\"/></a>"
      ]
    },
    {
      "cell_type": "code",
      "execution_count": 11,
      "metadata": {
        "colab": {
          "base_uri": "https://localhost:8080/"
        },
        "id": "FW04fxyD38Eu",
        "outputId": "31ba927e-fe4f-4e85-b61a-6ea10cb09ac5"
      },
      "outputs": [
        {
          "output_type": "stream",
          "name": "stdout",
          "text": [
            "120\n"
          ]
        }
      ],
      "source": [
        "def factorial(n):\n",
        "  if n==0:\n",
        "    return 1 # Base case\n",
        "  else:\n",
        "    factorial = 1\n",
        "    for i in range(1,n+1): #Iterate from 1 to n\n",
        "      factorial *= i\n",
        "    return factorial\n",
        "\n",
        "print(factorial(5)) #Calling the function and printing the result\n",
        "\n",
        "\n"
      ]
    }
  ]
}