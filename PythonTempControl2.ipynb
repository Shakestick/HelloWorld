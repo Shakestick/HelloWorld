{
  "nbformat": 4,
  "nbformat_minor": 0,
  "metadata": {
    "colab": {
      "name": "PythonTempControl2.ipynb",
      "provenance": [],
      "authorship_tag": "ABX9TyOQmE5I3yRfDGWeeSa2EKHf",
      "include_colab_link": true
    },
    "kernelspec": {
      "name": "python3",
      "display_name": "Python 3"
    },
    "language_info": {
      "name": "python"
    }
  },
  "cells": [
    {
      "cell_type": "markdown",
      "metadata": {
        "id": "view-in-github",
        "colab_type": "text"
      },
      "source": [
        "<a href=\"https://colab.research.google.com/github/Shakestick/HelloWorld/blob/main/PythonTempControl2.ipynb\" target=\"_parent\"><img src=\"https://colab.research.google.com/assets/colab-badge.svg\" alt=\"Open In Colab\"/></a>"
      ]
    },
    {
      "cell_type": "code",
      "metadata": {
        "id": "SVOU_v6uFm3A"
      },
      "source": [
        "# CONVERT FAHRENHEIT TO CELSIUS\n",
        "# EQUATION = (Celsius = Fahrenheit - 32) / 1)\n",
        "# CONVERT CELSIUS TO FAHRENHEIT\n",
        "# Celsius = (FAHRENHEIT - 32) / 1 \n",
        "\n",
        "f = float(input(\"Enter Fahrenheit Temperature:\"))\n",
        "c = (f - 32) * 5/9\n",
        "print('Celsius Temperature: {0}'.format(cel))\n"
      ],
      "execution_count": null,
      "outputs": []
    },
    {
      "cell_type": "code",
      "metadata": {
        "id": "3PlSYDLIuNYR"
      },
      "source": [
        "# CONVERT CELSIUS TO FAHRENHEIT\n"
      ],
      "execution_count": null,
      "outputs": []
    }
  ]
}