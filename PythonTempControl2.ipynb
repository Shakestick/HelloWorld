{
  "nbformat": 4,
  "nbformat_minor": 0,
  "metadata": {
    "colab": {
      "name": "PythonTempControl1.ipynb",
      "provenance": [],
      "authorship_tag": "ABX9TyN/oJi7EJXedry+hHDJ/6Yc",
      "include_colab_link": true
    },
    "kernelspec": {
      "name": "python3",
      "display_name": "Python 3"
    },
    "language_info": {
      "name": "python"
    }
  },
  "cells": [
    {
      "cell_type": "markdown",
      "metadata": {
        "id": "view-in-github",
        "colab_type": "text"
      },
      "source": [
        "<a href=\"https://colab.research.google.com/github/Shakestick/HelloWorld/blob/main/PythonTempControl2.ipynb\" target=\"_parent\"><img src=\"https://colab.research.google.com/assets/colab-badge.svg\" alt=\"Open In Colab\"/></a>"
      ]
    },
    {
      "cell_type": "code",
      "metadata": {
        "colab": {
          "base_uri": "https://localhost:8080/"
        },
        "id": "SVOU_v6uFm3A",
        "outputId": "453c67e4-8fa8-43b7-9e0b-e3ec7372a07d"
      },
      "source": [
        "# CONVERT FAHRENHEIT TO CELSIUS\n",
        "# EQUATION = (Celsius = Fahrenheit - 32) / 1)\n",
        "# CONVERT CELSIUS TO FAHRENHEIT\n",
        "# Celsius = (FAHRENHEIT - 32) / 1 \n",
        "\n",
        "f = float(input(\"Enter Fahrenheit Temperature:\"))\n",
        "c = (f - 32) * 5/9\n",
        "print('Celsius Temperature: {0}'.format(cel))"
      ],
      "execution_count": 5,
      "outputs": [
        {
          "output_type": "stream",
          "name": "stdout",
          "text": [
            "Enter Fahrenheit Temperature:120\n",
            "Celsius Temperature: 48.888888888888886\n"
          ]
        }
      ]
    }
  ]
}