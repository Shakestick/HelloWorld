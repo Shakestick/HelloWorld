{
  "nbformat": 4,
  "nbformat_minor": 0,
  "metadata": {
    "colab": {
      "name": "Assignment 4.ipynb",
      "provenance": [],
      "authorship_tag": "ABX9TyNb56+ZYNRJMZ/KB9BhOzsC",
      "include_colab_link": true
    },
    "kernelspec": {
      "name": "python3",
      "display_name": "Python 3"
    },
    "language_info": {
      "name": "python"
    }
  },
  "cells": [
    {
      "cell_type": "markdown",
      "metadata": {
        "id": "view-in-github",
        "colab_type": "text"
      },
      "source": [
        "<a href=\"https://colab.research.google.com/github/Shakestick/HelloWorld/blob/main/Assignment_4.ipynb\" target=\"_parent\"><img src=\"https://colab.research.google.com/assets/colab-badge.svg\" alt=\"Open In Colab\"/></a>"
      ]
    },
    {
      "cell_type": "code",
      "metadata": {
        "id": "424oVpLthx55"
      },
      "source": [
        ""
      ],
      "execution_count": null,
      "outputs": []
    },
    {
      "cell_type": "markdown",
      "metadata": {
        "id": "jmp8n_b2h5eI"
      },
      "source": [
        "Your job is to design a simple program to allow the loan officer(s) to enter the customer particulars at the terminal and determine if a customer is creditworthy.\n",
        " \n",
        "Based on their loan officer's entry, your system is required to get the best desired results as shown below in the OUTPUT.\n",
        " \n",
        "Please, design a program to do the input entry, do the desired calculations and come up with the needed requirements and output them as needed.\n",
        "Please consider all the needed variables. If you need to add any, please do add if need is there. Good luck.\n",
        " \n",
        " \n",
        "#Enter the price of the House you wish to Buy\n",
        "print(\"Enter the house price\")\n",
        "price = input()\n",
        " \n",
        "#Enter the credit score\n",
        "print(\"Enter the credit score\")\n",
        "CreditScore = input()\n",
        " \n",
        " \n",
        "#Enter the first name\n",
        "print(\"Enter the first name\")\n",
        "first_name = input()\n",
        " \n",
        "#Enter the last name\n",
        "print(\"Enter the last name\")\n",
        "last_name = input()\n",
        " \n",
        "fullnames = first_name + \" \" + last_name\n",
        " \n",
        "#Enter the email\n",
        "print(\"Enter the email address\")\n",
        "email = input()\n",
        " \n",
        "#Enter the phone number\n",
        "print(\"Enter the phone number\")\n",
        "phone = input()\n",
        " \n",
        "#Enter the mailing\n",
        "print(\"Enter the mailing address\")\n",
        "mailing = input()\n",
        " \n",
        "#Enter the mailing\n",
        "print(\"Enter the City\")\n",
        "city = input()\n",
        " \n",
        "#Enter the mailing\n",
        "print(\"Enter the zip code\")\n",
        "zipcode = input()\n",
        " \n",
        "#Qualify for loans with the best interest rates\n",
        "CreditScore >= 780 AND 850\n",
        "print \"Excent Credit\"\n",
        "print(\"Zero Down Payment\")\n",
        "downPayment = 0.10 * price\n",
        " \n",
        "#Usually qualify for loans with the best interest rates\n",
        "CreditScore >= 740 AND 779\n",
        "print(\"Very Good\")\n",
        "downPayment = 0.1 * price\n",
        " \n",
        "#May face slightly higher loan Interest rates\n",
        "CreditScore >= 720 AND 739\n",
        "print(\"Above Average\")\n",
        "downPayment = 0.3 * price\n",
        " \n",
        "#May qualify for most loans of higher interest rates\n",
        "CreditScore >= 680 AND 719\n",
        "print(\"Average\")\n",
        "downPayment = 0.6 * price\n",
        " \n",
        "#May qualify for most loans at significant higher Interest rates\n",
        "CreditScore >= 620 AND 679\n",
        "print(\"Below Average\")\n",
        "downPayment = 0.18 * price\n",
        " \n",
        "#Usually has some credit issues; will probably not qualify for most loans\n",
        "CreditScore >= 580 AND 619\n",
        "print(\"Poor Credit Score\")\n",
        "downPayment = 0.20 * price\n",
        " \n",
        " \n",
        "#Facing extreme credit issue\n",
        "CreditScore < 520\n",
        "print(\"Poor Credit Score\")\n",
        "downPayment = 0.25 * price\n"
      ]
    },
    {
      "cell_type": "markdown",
      "metadata": {
        "id": "05_qt8Luh2mw"
      },
      "source": [
        ""
      ]
    }
  ]
}