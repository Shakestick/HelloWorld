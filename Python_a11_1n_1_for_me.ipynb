{
  "nbformat": 4,
  "nbformat_minor": 0,
  "metadata": {
    "colab": {
      "name": "Python a11 1n 1 for me.ipynb",
      "provenance": [],
      "authorship_tag": "ABX9TyOFJcC3EZrdDeMebxhR/LOW",
      "include_colab_link": true
    },
    "kernelspec": {
      "name": "python3",
      "display_name": "Python 3"
    },
    "language_info": {
      "name": "python"
    }
  },
  "cells": [
    {
      "cell_type": "markdown",
      "metadata": {
        "id": "view-in-github",
        "colab_type": "text"
      },
      "source": [
        "<a href=\"https://colab.research.google.com/github/Shakestick/HelloWorld/blob/main/Python_a11_1n_1_for_me.ipynb\" target=\"_parent\"><img src=\"https://colab.research.google.com/assets/colab-badge.svg\" alt=\"Open In Colab\"/></a>"
      ]
    },
    {
      "cell_type": "code",
      "metadata": {
        "id": "ZLCULKrn76ZF"
      },
      "source": [
        "# Enter first and last name\n",
        "names = input(\"Janabi Emmanuel Odongo Mango\")\n",
        "# print names\n",
        "print(names)\n",
        "\n"
      ],
      "execution_count": null,
      "outputs": []
    },
    {
      "cell_type": "code",
      "metadata": {
        "id": "EmDX1uYH2DKO",
        "colab": {
          "base_uri": "https://localhost:8080/"
        },
        "outputId": "ce28a628-8746-4fc0-c1e9-e0aed5cdf626"
      },
      "source": [
        "#Enquire as to goals for this class\n",
        "print(\"What are your goals for this class - long term goals?\")\n",
        "\n",
        "\n"
      ],
      "execution_count": 5,
      "outputs": [
        {
          "output_type": "stream",
          "name": "stdout",
          "text": [
            "What are your goals for this class - long term goals?\n"
          ]
        }
      ]
    },
    {
      "cell_type": "code",
      "metadata": {
        "id": "Ahkb6v2_fCrL"
      },
      "source": [
        "goals = input('What would you like to be....when all is said and done with the class?')\n",
        "print(goals)\n"
      ],
      "execution_count": null,
      "outputs": []
    }
  ]
}